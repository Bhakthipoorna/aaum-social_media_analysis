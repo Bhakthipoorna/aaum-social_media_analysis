{
 "cells": [
  {
   "cell_type": "code",
   "execution_count": 14,
   "id": "2aee4703",
   "metadata": {},
   "outputs": [],
   "source": [
    "from configparser import ConfigParser"
   ]
  },
  {
   "cell_type": "code",
   "execution_count": null,
   "id": "6b25b2fb",
   "metadata": {},
   "outputs": [],
   "source": [
    "import configparser\n",
    "config_writer=configparser.ConfigParser()\n",
    "config_writer['default']={'name':'cfParcer1','name2':'cfparcer2'}\n",
    "with open('bank_config.ini','w') as cornfigfile:\n",
    "    config_writer.write(configfile)"
   ]
  },
  {
   "cell_type": "code",
   "execution_count": 11,
   "id": "9f60872a",
   "metadata": {},
   "outputs": [],
   "source": []
  },
  {
   "cell_type": "code",
   "execution_count": 15,
   "id": "276d550a",
   "metadata": {},
   "outputs": [
    {
     "data": {
      "text/plain": [
       "['bank.ini']"
      ]
     },
     "execution_count": 15,
     "metadata": {},
     "output_type": "execute_result"
    }
   ],
   "source": [
    "config_file='bank.ini'\n",
    "config = ConfigParser()\n",
    "config.read(config_file)"
   ]
  },
  {
   "cell_type": "code",
   "execution_count": 16,
   "id": "86149982",
   "metadata": {},
   "outputs": [
    {
     "data": {
      "text/plain": [
       "'string1'"
      ]
     },
     "execution_count": 16,
     "metadata": {},
     "output_type": "execute_result"
    }
   ],
   "source": [
    "str1=config['BANK1']['str1']\n",
    "str1"
   ]
  },
  {
   "cell_type": "code",
   "execution_count": 17,
   "id": "14adb188",
   "metadata": {},
   "outputs": [
    {
     "data": {
      "text/plain": [
       "'string2'"
      ]
     },
     "execution_count": 17,
     "metadata": {},
     "output_type": "execute_result"
    }
   ],
   "source": [
    "str2=config['BANK1']['str2']\n",
    "str2"
   ]
  },
  {
   "cell_type": "code",
   "execution_count": 18,
   "id": "a4ff7e59",
   "metadata": {},
   "outputs": [
    {
     "data": {
      "text/plain": [
       "'string3'"
      ]
     },
     "execution_count": 18,
     "metadata": {},
     "output_type": "execute_result"
    }
   ],
   "source": [
    "str3=config['BANK1']['str3']\n",
    "str3"
   ]
  },
  {
   "cell_type": "code",
   "execution_count": null,
   "id": "9a5260d4",
   "metadata": {},
   "outputs": [],
   "source": [
    "str4=config['BANK2']['str1']\n",
    "str1"
   ]
  },
  {
   "cell_type": "code",
   "execution_count": null,
   "id": "d41c200e",
   "metadata": {},
   "outputs": [],
   "source": []
  },
  {
   "cell_type": "code",
   "execution_count": null,
   "id": "c0cb781f",
   "metadata": {},
   "outputs": [],
   "source": []
  },
  {
   "cell_type": "code",
   "execution_count": null,
   "id": "440ee820",
   "metadata": {},
   "outputs": [],
   "source": [
    "from selenium import webdriver\n",
    "from selenium.webdriver.common.keys import Keys\n",
    "from selenium.webdriver.support import expected_conditions as EC\n",
    "from selenium.webdriver.common.by import By\n",
    "from selenium.webdriver.support.wait import WebDriverWait\n",
    "\n",
    "import pandas as pd\n",
    "import numpy as np\n",
    "import time"
   ]
  },
  {
   "cell_type": "code",
   "execution_count": null,
   "id": "77c34d5b",
   "metadata": {},
   "outputs": [],
   "source": [
    "driver=webdriver.Chrome(r\"C:\\Users\\ADMIN\\Downloads\\chromedriver.exe\")"
   ]
  },
  {
   "cell_type": "code",
   "execution_count": null,
   "id": "dbab9e63",
   "metadata": {},
   "outputs": [],
   "source": [
    "driver.get(\"http://www.facebook.com\")"
   ]
  },
  {
   "cell_type": "code",
   "execution_count": null,
   "id": "07067e62",
   "metadata": {},
   "outputs": [],
   "source": [
    "username=WebDriverWait(driver, 10).until(EC.element_to_be_clickable((By.CSS_SELECTOR, \"input[name='email']\")))\n",
    "password=WebDriverWait(driver, 10).until(EC.element_to_be_clickable((By.CSS_SELECTOR, \"input[name='pass']\")))\n",
    "\n",
    "username.clear()\n",
    "username.send_keys('bhakthipoorna@gmail.com')\n",
    "password.clear()\n",
    "password.send_keys('password')\n",
    "\n",
    "button=WebDriverWait(driver, 2).until(EC.element_to_be_clickable((By.CSS_SELECTOR, \"button[type='submit']\"))).click()"
   ]
  },
  {
   "cell_type": "code",
   "execution_count": null,
   "id": "58a92408",
   "metadata": {},
   "outputs": [],
   "source": [
    "time.sleep(2)\n",
    "try:\n",
    "    driver.find_element(By.CLASS_NAME,\"cmbtv\").click()\n",
    "except:\n",
    "    pass\n",
    "\n",
    "time.sleep(3)\n",
    "try:\n",
    "    driver.get(\"https://www.facebook.com/madrastalkiesofficial/\")\n",
    "except:\n",
    "    pass\n",
    "\n",
    "time.sleep(2)\n",
    "try:\n",
    "    name_of_the_page=driver.find_element(By.XPATH,\"//div[@class='bi6gxh9e aov4n071']//h2\").text\n",
    "    print(\"Name of the Page :\",name_of_the_page)\n",
    "except:\n",
    "    pass"
   ]
  },
  {
   "cell_type": "code",
   "execution_count": null,
   "id": "6e38f616",
   "metadata": {},
   "outputs": [],
   "source": [
    "date_of_post=driver.find_element(By.XPATH,\"//time[@class='bi6gxh9e aov4n071']\").get_attribute(\"datetime\")\n",
    "    "
   ]
  },
  {
   "cell_type": "code",
   "execution_count": null,
   "id": "44552099",
   "metadata": {},
   "outputs": [],
   "source": [
    "get_image_url"
   ]
  },
  {
   "cell_type": "code",
   "execution_count": null,
   "id": "067d4f43",
   "metadata": {},
   "outputs": [],
   "source": [
    "\n",
    "\n",
    "\n",
    "time.sleep(2)\n",
    "try:\n",
    "    driver.get(url_image)\n",
    "    print(url_image)\n",
    "except:\n",
    "    pass\n",
    "\n",
    "time.sleep(2)\n",
    "name_of_the_page=driver.find_element(By.XPATH,\"//div[@class='_aaqt']//a\").text\n",
    "#         print(\"Name of the Page :\",name_of_the_page)\n",
    "\n",
    "try:\n",
    "    date_of_post=driver.find_element(By.XPATH,\"//time[@class='_aaqe']\").get_attribute(\"datetime\")\n",
    "    time_of_post=driver.find_element(By.XPATH,\"//time[@class='_aaqe']\").text\n",
    "#             print(date_of_post,\"---------->\",time_of_post)\n",
    "except:\n",
    "    pass\n",
    "\n",
    "try:\n",
    "    get_views_or_likes=driver.find_element(By.XPATH,\"//section[@class='_aam_ _aat4']\").text\n",
    "except:\n",
    "    pass\n",
    "\n",
    "count=1\n",
    "while True:\n",
    "    time.sleep(2)\n",
    "    print(\"Count--------->\",count)\n",
    "    time.sleep(2)\n",
    "    clicking_plus_button=driver.find_elements(By.XPATH,\"//*/div/div[1]/div/div[1]/div/div/div[1]/div[1]/section/main/div[1]/div[1]/article/div/div[2]/div/div[2]/div[1]/ul/li/div/button\")\n",
    "    l=len(clicking_plus_button)\n",
    "    print(\"L--------->\",l)\n",
    "\n",
    "    if(l>0):\n",
    "        try:\n",
    "            click_plus_button=driver.find_element(By.XPATH,\"//*/div/div[1]/div/div[1]/div/div/div[1]/div[1]/section/main/div[1]/div[1]/article/div/div[2]/div/div[2]/div[1]/ul/li/div/button\")\n",
    "            click_plus_button.click()\n",
    "            print(\"Inside IF--------->\",l)\n",
    "        except:\n",
    "            pass\n",
    "    count=l\n",
    "\n",
    "    if(count==0):\n",
    "        break\n",
    "\n",
    "            \n",
    "count=1\n",
    "while True:\n",
    "    time.sleep(2)\n",
    "    print(\"Count--------->\",count)\n",
    "    time.sleep(2)\n",
    "    clicking_plus_button=driver.find_elements(By.XPATH,\"//*/div/div[1]/div/div[1]/div/div/div[1]/div[1]/section/main/div[1]/div[1]/article/div/div[2]/div/div[2]/div[1]/ul/li/div/button\")\n",
    "    l=len(clicking_plus_button)\n",
    "    print(\"L--------->\",l)\n",
    "\n",
    "    if(l>0):\n",
    "        try:\n",
    "            click_plus_button=driver.find_element(By.XPATH,\"//*/div/div[1]/div/div[1]/div/div/div[1]/div[1]/section/main/div[1]/div[1]/article/div/div[2]/div/div[2]/div[1]/ul/li/div/button\")\n",
    "            click_plus_button.click()\n",
    "            print(\"Inside IF--------->\",l)\n",
    "        except:\n",
    "            pass\n",
    "    count=l\n",
    "\n",
    "    if(count==0):\n",
    "        break\n",
    "\n",
    "print(get_peron_name,\"----->\",get_person_url,\"----------->\",get_person_message)\n",
    "\n",
    "df=pd.DataFrame({'Name of the Page':name_of_the_page,'Image_Url':url_image,'Date of Post':date_of_post,'Time of Post':time_of_post,\"Likes or Views\":get_views_or_likes,\"Commented_Person_name\":get_peron_name,\"Person Url\":get_person_url,\"Review\":get_person_message},index=[0])\n",
    "df1 = pd.concat([df1,df]) "
   ]
  },
  {
   "cell_type": "code",
   "execution_count": null,
   "id": "6e7cb7c3",
   "metadata": {},
   "outputs": [],
   "source": []
  },
  {
   "cell_type": "code",
   "execution_count": null,
   "id": "6f45746d",
   "metadata": {},
   "outputs": [],
   "source": [
    "driver.get(\"https://www.facebook.com/ponniyinselvanpage/\")\n",
    "  \n",
    "# print(driver.title)\n",
    "  \n",
    "# Printing the whole body text\n",
    "print(driver.find_element_by_xpath(\"/html/body\").text)\n",
    "  \n",
    "# Closing the driver\n",
    "driver.close()"
   ]
  },
  {
   "cell_type": "code",
   "execution_count": null,
   "id": "9bd11461",
   "metadata": {},
   "outputs": [],
   "source": [
    "import pandas as pd"
   ]
  },
  {
   "cell_type": "code",
   "execution_count": null,
   "id": "657ec840",
   "metadata": {},
   "outputs": [],
   "source": [
    "(277/4)*100"
   ]
  },
  {
   "cell_type": "code",
   "execution_count": null,
   "id": "f384dad7",
   "metadata": {},
   "outputs": [],
   "source": []
  },
  {
   "cell_type": "code",
   "execution_count": null,
   "id": "de131d85",
   "metadata": {},
   "outputs": [],
   "source": [
    "df1=pd.read_excel(\"fblookup_18thOct.xlsx\")\n",
    "df1\n"
   ]
  },
  {
   "cell_type": "code",
   "execution_count": null,
   "id": "6cedc6f0",
   "metadata": {},
   "outputs": [],
   "source": [
    "df1.columns=['0','URL']"
   ]
  },
  {
   "cell_type": "code",
   "execution_count": null,
   "id": "16e596ca",
   "metadata": {},
   "outputs": [],
   "source": [
    "df1"
   ]
  },
  {
   "cell_type": "code",
   "execution_count": null,
   "id": "d203069d",
   "metadata": {},
   "outputs": [],
   "source": [
    "df2=pd.ExcelFile('fblookup_13thOct.xlsx')\n",
    "df3=pd.read_excel(df2,'All Url')\n",
    "df4=pd.read_excel(df2,'Relavant')\n",
    "df3"
   ]
  },
  {
   "cell_type": "code",
   "execution_count": null,
   "id": "6a3e3f64",
   "metadata": {},
   "outputs": [],
   "source": [
    "df3.rename(columns={'Url':'URL'},inplace=True)"
   ]
  },
  {
   "cell_type": "code",
   "execution_count": null,
   "id": "87ca440d",
   "metadata": {},
   "outputs": [],
   "source": [
    "df1['URL']=df1['URL'].str.strip()\n",
    "df1['URL']=df1['URL'].str.lstrip()\n",
    "df1['URL']=df1['URL'].str.rstrip()\n",
    "\n",
    "df3['URL']=df3['URL'].str.strip()\n",
    "df3['URL']=df3['URL'].str.lstrip()\n",
    "df3['URL']=df3['URL'].str.rstrip()"
   ]
  },
  {
   "cell_type": "code",
   "execution_count": null,
   "id": "515596a1",
   "metadata": {},
   "outputs": [],
   "source": []
  },
  {
   "cell_type": "code",
   "execution_count": null,
   "id": "80bbfbf2",
   "metadata": {},
   "outputs": [],
   "source": [
    "df_neww=df1[~df1['URL'].isin(df3['URL'])]\n",
    "df_neww.to_excel('dff_new.xlsx')"
   ]
  },
  {
   "cell_type": "code",
   "execution_count": null,
   "id": "fd9e88b8",
   "metadata": {},
   "outputs": [],
   "source": [
    "df_neww"
   ]
  },
  {
   "cell_type": "code",
   "execution_count": null,
   "id": "bcad8d68",
   "metadata": {},
   "outputs": [],
   "source": []
  },
  {
   "cell_type": "code",
   "execution_count": null,
   "id": "3781deec",
   "metadata": {},
   "outputs": [],
   "source": []
  },
  {
   "cell_type": "code",
   "execution_count": null,
   "id": "6b59a147",
   "metadata": {},
   "outputs": [],
   "source": [
    "df1.drop_duplicates(keep='last',inplace=True)"
   ]
  },
  {
   "cell_type": "code",
   "execution_count": null,
   "id": "3e8a2382",
   "metadata": {},
   "outputs": [],
   "source": [
    "#df1.to_excel('Insta_PS1_lookup_tips_official.xlsx')"
   ]
  },
  {
   "cell_type": "code",
   "execution_count": null,
   "id": "ea9e408e",
   "metadata": {},
   "outputs": [],
   "source": [
    "df1['Image_Url'].value_counts().head(20)"
   ]
  },
  {
   "cell_type": "code",
   "execution_count": null,
   "id": "cf05f39e",
   "metadata": {},
   "outputs": [],
   "source": [
    "df=pd.ExcelFile('.xlsx')\n",
    "df"
   ]
  },
  {
   "cell_type": "code",
   "execution_count": null,
   "id": "56b3b817",
   "metadata": {},
   "outputs": [],
   "source": [
    "df['tag2']='TipsOfficial : '"
   ]
  },
  {
   "cell_type": "code",
   "execution_count": null,
   "id": "44f90c4f",
   "metadata": {},
   "outputs": [],
   "source": [
    "df['url_description']=df['tag2']+df['tag']"
   ]
  },
  {
   "cell_type": "raw",
   "id": "0efd10a4",
   "metadata": {},
   "source": [
    "df.to_excel('Insta_PS1_lookup_tips_official.xlsx')"
   ]
  },
  {
   "cell_type": "code",
   "execution_count": null,
   "id": "35a533a1",
   "metadata": {},
   "outputs": [],
   "source": [
    "df"
   ]
  },
  {
   "cell_type": "code",
   "execution_count": null,
   "id": "ed6d6169",
   "metadata": {},
   "outputs": [],
   "source": [
    "df1=pd.read_excel('Insta_PS1_lookup_lyca_productions.xlsx')"
   ]
  },
  {
   "cell_type": "code",
   "execution_count": null,
   "id": "35b1f184",
   "metadata": {},
   "outputs": [],
   "source": [
    "df1.rename(columns={'0':'URL'},inplace=True)"
   ]
  },
  {
   "cell_type": "code",
   "execution_count": null,
   "id": "b04fd637",
   "metadata": {},
   "outputs": [],
   "source": [
    "df3=pd.read_excel(df2,'Relavant')"
   ]
  },
  {
   "cell_type": "code",
   "execution_count": null,
   "id": "256908f1",
   "metadata": {},
   "outputs": [],
   "source": [
    "df1=pd.read_excel(\"FB_lookup_29Sep.xlsx\")"
   ]
  },
  {
   "cell_type": "code",
   "execution_count": null,
   "id": "a7665d19",
   "metadata": {},
   "outputs": [],
   "source": [
    "df2=pd.ExcelFile('Insta_PS1_lookup_madras_talkies.xlsx')\n",
    "df3=pd.read_excel(df2,'All url')\n",
    "df4=pd.read_excel(df2,'Relavant')\n",
    "df3"
   ]
  },
  {
   "cell_type": "code",
   "execution_count": null,
   "id": "41fc380d",
   "metadata": {},
   "outputs": [],
   "source": []
  },
  {
   "cell_type": "code",
   "execution_count": null,
   "id": "57571fd4",
   "metadata": {},
   "outputs": [],
   "source": []
  },
  {
   "cell_type": "code",
   "execution_count": null,
   "id": "34403fbe",
   "metadata": {},
   "outputs": [],
   "source": [
    "df4.rename(columns={'Url':'URL'},inplace=True)"
   ]
  },
  {
   "cell_type": "code",
   "execution_count": null,
   "id": "2c58a4ae",
   "metadata": {},
   "outputs": [],
   "source": [
    "df1['URL']=df1['URL'].str.strip()\n",
    "df1['URL']=df1['URL'].str.lstrip()\n",
    "df1['URL']=df1['URL'].str.rstrip()\n",
    "\n",
    "df3['URL']=df3['URL'].str.strip()\n",
    "df3['URL']=df3['URL'].str.lstrip()\n",
    "df3['URL']=df3['URL'].str.rstrip()"
   ]
  },
  {
   "cell_type": "code",
   "execution_count": null,
   "id": "dbc6061e",
   "metadata": {},
   "outputs": [],
   "source": [
    "#df5=df1[~df1['URL'].isin(df3['URL'])]\n",
    "df1.to_excel('Insta_PS1_lookup_lyca_productions.xlsx')"
   ]
  },
  {
   "cell_type": "code",
   "execution_count": null,
   "id": "583391ab",
   "metadata": {},
   "outputs": [],
   "source": [
    "df4"
   ]
  },
  {
   "cell_type": "code",
   "execution_count": null,
   "id": "4f80ef98",
   "metadata": {},
   "outputs": [],
   "source": [
    "df6=pd.concat([df4,df5])\n",
    "df6.to_excel('fb_neww.xlsx')"
   ]
  },
  {
   "cell_type": "code",
   "execution_count": null,
   "id": "3bfc95f5",
   "metadata": {},
   "outputs": [],
   "source": [
    "df5"
   ]
  },
  {
   "cell_type": "code",
   "execution_count": null,
   "id": "405642fa",
   "metadata": {},
   "outputs": [],
   "source": [
    "df2_excel=pd.ExcelFile('FB_lookup.xlsx',engine='openpyxl')\n",
    "df2 = pd.read_excel(df2_excel, 'Relavant')\n"
   ]
  },
  {
   "cell_type": "code",
   "execution_count": null,
   "id": "f4cb772b",
   "metadata": {},
   "outputs": [],
   "source": [
    "df2.drop_duplicates('Url',keep='last',inplace=True)"
   ]
  },
  {
   "cell_type": "code",
   "execution_count": null,
   "id": "3623de6d",
   "metadata": {},
   "outputs": [],
   "source": [
    "df2[df2['url_description'].isnull()]"
   ]
  },
  {
   "cell_type": "code",
   "execution_count": null,
   "id": "6103dbde",
   "metadata": {},
   "outputs": [],
   "source": [
    "df2"
   ]
  },
  {
   "cell_type": "code",
   "execution_count": null,
   "id": "0d25f2d8",
   "metadata": {},
   "outputs": [],
   "source": []
  }
 ],
 "metadata": {
  "kernelspec": {
   "display_name": "Python 3",
   "language": "python",
   "name": "python3"
  },
  "language_info": {
   "codemirror_mode": {
    "name": "ipython",
    "version": 3
   },
   "file_extension": ".py",
   "mimetype": "text/x-python",
   "name": "python",
   "nbconvert_exporter": "python",
   "pygments_lexer": "ipython3",
   "version": "3.8.8"
  }
 },
 "nbformat": 4,
 "nbformat_minor": 5
}
