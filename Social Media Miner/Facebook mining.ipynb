{
 "cells": [
  {
   "cell_type": "code",
   "execution_count": 1,
   "id": "8f0ae8d1",
   "metadata": {},
   "outputs": [],
   "source": [
    "import pandas as pd\n",
    "import urllib3\n",
    "import facebook\n",
    "import requests\n",
    "import json"
   ]
  },
  {
   "cell_type": "code",
   "execution_count": 4,
   "id": "aa1aed27",
   "metadata": {},
   "outputs": [],
   "source": [
    "token='EAAORCP4szTABAKpKZA1OVIkKDcZBi1hyycI2MrNzZCZBkobHw5Fu6w2XKX5zEBBI6gMjnXOPR9ZCFqunN5amZAcZAqjoRLV88tkcndoqz2bt3xVP7zcQv0FGNTBHNtN0TjNKZAz0wGHqPSKNoxUdyJwCpZAdbjiaU5rn1BxjFJDZAcwMH5lZBsskGXnAO7hNMZAPk5W3nsmydfdomwZDZD'"
   ]
  },
  {
   "cell_type": "code",
   "execution_count": 5,
   "id": "c826c0c9",
   "metadata": {},
   "outputs": [
    {
     "ename": "GraphAPIError",
     "evalue": "Error validating access token: Session has expired on Tuesday, 19-Jul-22 05:00:00 PDT. The current time is Tuesday, 19-Jul-22 20:20:42 PDT.",
     "output_type": "error",
     "traceback": [
      "\u001b[1;31m---------------------------------------------------------------------------\u001b[0m",
      "\u001b[1;31mGraphAPIError\u001b[0m                             Traceback (most recent call last)",
      "\u001b[1;32m<ipython-input-5-c36dcf64d36a>\u001b[0m in \u001b[0;36m<module>\u001b[1;34m\u001b[0m\n\u001b[0;32m      1\u001b[0m \u001b[0mgraph\u001b[0m \u001b[1;33m=\u001b[0m \u001b[0mfacebook\u001b[0m\u001b[1;33m.\u001b[0m\u001b[0mGraphAPI\u001b[0m\u001b[1;33m(\u001b[0m\u001b[0maccess_token\u001b[0m\u001b[1;33m=\u001b[0m\u001b[0mtoken\u001b[0m\u001b[1;33m,\u001b[0m \u001b[0mversion\u001b[0m \u001b[1;33m=\u001b[0m \u001b[1;36m3.1\u001b[0m\u001b[1;33m)\u001b[0m\u001b[1;33m\u001b[0m\u001b[1;33m\u001b[0m\u001b[0m\n\u001b[1;32m----> 2\u001b[1;33m \u001b[0mevents\u001b[0m \u001b[1;33m=\u001b[0m \u001b[0mgraph\u001b[0m\u001b[1;33m.\u001b[0m\u001b[0mrequest\u001b[0m\u001b[1;33m(\u001b[0m\u001b[1;34m\"/search?q=Poetry&type=event&limit=10000\"\u001b[0m\u001b[1;33m)\u001b[0m\u001b[1;33m\u001b[0m\u001b[1;33m\u001b[0m\u001b[0m\n\u001b[0m",
      "\u001b[1;32m~\\anaconda3\\lib\\site-packages\\facebook\\__init__.py\u001b[0m in \u001b[0;36mrequest\u001b[1;34m(self, path, args, post_args, files, method)\u001b[0m\n\u001b[0;32m    311\u001b[0m \u001b[1;33m\u001b[0m\u001b[0m\n\u001b[0;32m    312\u001b[0m         \u001b[1;32mif\u001b[0m \u001b[0mresult\u001b[0m \u001b[1;32mand\u001b[0m \u001b[0misinstance\u001b[0m\u001b[1;33m(\u001b[0m\u001b[0mresult\u001b[0m\u001b[1;33m,\u001b[0m \u001b[0mdict\u001b[0m\u001b[1;33m)\u001b[0m \u001b[1;32mand\u001b[0m \u001b[0mresult\u001b[0m\u001b[1;33m.\u001b[0m\u001b[0mget\u001b[0m\u001b[1;33m(\u001b[0m\u001b[1;34m\"error\"\u001b[0m\u001b[1;33m)\u001b[0m\u001b[1;33m:\u001b[0m\u001b[1;33m\u001b[0m\u001b[1;33m\u001b[0m\u001b[0m\n\u001b[1;32m--> 313\u001b[1;33m             \u001b[1;32mraise\u001b[0m \u001b[0mGraphAPIError\u001b[0m\u001b[1;33m(\u001b[0m\u001b[0mresult\u001b[0m\u001b[1;33m)\u001b[0m\u001b[1;33m\u001b[0m\u001b[1;33m\u001b[0m\u001b[0m\n\u001b[0m\u001b[0;32m    314\u001b[0m         \u001b[1;32mreturn\u001b[0m \u001b[0mresult\u001b[0m\u001b[1;33m\u001b[0m\u001b[1;33m\u001b[0m\u001b[0m\n\u001b[0;32m    315\u001b[0m \u001b[1;33m\u001b[0m\u001b[0m\n",
      "\u001b[1;31mGraphAPIError\u001b[0m: Error validating access token: Session has expired on Tuesday, 19-Jul-22 05:00:00 PDT. The current time is Tuesday, 19-Jul-22 20:20:42 PDT."
     ]
    }
   ],
   "source": [
    "graph = facebook.GraphAPI(access_token=token, version = 3.1)\n",
    "events = graph.request(\"/search?q=Poetry&type=event&limit=10000\")"
   ]
  },
  {
   "cell_type": "code",
   "execution_count": null,
   "id": "a6224ea2",
   "metadata": {},
   "outputs": [],
   "source": [
    "graph = facebook.GraphAPI(access_token=token, version = 3.1)"
   ]
  },
  {
   "cell_type": "code",
   "execution_count": 6,
   "id": "c00bf77f",
   "metadata": {},
   "outputs": [
    {
     "data": {
      "text/plain": [
       "<facebook.GraphAPI at 0x1cebc037eb0>"
      ]
     },
     "execution_count": 6,
     "metadata": {},
     "output_type": "execute_result"
    }
   ],
   "source": [
    "graph"
   ]
  },
  {
   "cell_type": "code",
   "execution_count": 50,
   "id": "091760ff",
   "metadata": {},
   "outputs": [
    {
     "ename": "GraphAPIError",
     "evalue": "Unsupported get request. Please read the Graph API documentation at https://developers.facebook.com/docs/graph-api",
     "output_type": "error",
     "traceback": [
      "\u001b[1;31m---------------------------------------------------------------------------\u001b[0m",
      "\u001b[1;31mGraphAPIError\u001b[0m                             Traceback (most recent call last)",
      "\u001b[1;32m<ipython-input-50-8d19cd84d858>\u001b[0m in \u001b[0;36m<module>\u001b[1;34m\u001b[0m\n\u001b[1;32m----> 1\u001b[1;33m \u001b[0mevents\u001b[0m \u001b[1;33m=\u001b[0m \u001b[0mgraph\u001b[0m\u001b[1;33m.\u001b[0m\u001b[0mrequest\u001b[0m\u001b[1;33m(\u001b[0m\u001b[1;34m'/search?q=Poetry&type=events&limit=1000'\u001b[0m\u001b[1;33m)\u001b[0m\u001b[1;33m\u001b[0m\u001b[1;33m\u001b[0m\u001b[0m\n\u001b[0m",
      "\u001b[1;32m~\\anaconda3\\lib\\site-packages\\facebook\\__init__.py\u001b[0m in \u001b[0;36mrequest\u001b[1;34m(self, path, args, post_args, files, method)\u001b[0m\n\u001b[0;32m    311\u001b[0m \u001b[1;33m\u001b[0m\u001b[0m\n\u001b[0;32m    312\u001b[0m         \u001b[1;32mif\u001b[0m \u001b[0mresult\u001b[0m \u001b[1;32mand\u001b[0m \u001b[0misinstance\u001b[0m\u001b[1;33m(\u001b[0m\u001b[0mresult\u001b[0m\u001b[1;33m,\u001b[0m \u001b[0mdict\u001b[0m\u001b[1;33m)\u001b[0m \u001b[1;32mand\u001b[0m \u001b[0mresult\u001b[0m\u001b[1;33m.\u001b[0m\u001b[0mget\u001b[0m\u001b[1;33m(\u001b[0m\u001b[1;34m\"error\"\u001b[0m\u001b[1;33m)\u001b[0m\u001b[1;33m:\u001b[0m\u001b[1;33m\u001b[0m\u001b[1;33m\u001b[0m\u001b[0m\n\u001b[1;32m--> 313\u001b[1;33m             \u001b[1;32mraise\u001b[0m \u001b[0mGraphAPIError\u001b[0m\u001b[1;33m(\u001b[0m\u001b[0mresult\u001b[0m\u001b[1;33m)\u001b[0m\u001b[1;33m\u001b[0m\u001b[1;33m\u001b[0m\u001b[0m\n\u001b[0m\u001b[0;32m    314\u001b[0m         \u001b[1;32mreturn\u001b[0m \u001b[0mresult\u001b[0m\u001b[1;33m\u001b[0m\u001b[1;33m\u001b[0m\u001b[0m\n\u001b[0;32m    315\u001b[0m \u001b[1;33m\u001b[0m\u001b[0m\n",
      "\u001b[1;31mGraphAPIError\u001b[0m: Unsupported get request. Please read the Graph API documentation at https://developers.facebook.com/docs/graph-api"
     ]
    }
   ],
   "source": [
    "events = graph.request('/search?q=Poetry&type=events&limit=1000')"
   ]
  },
  {
   "cell_type": "code",
   "execution_count": null,
   "id": "c9662f5c",
   "metadata": {},
   "outputs": [],
   "source": []
  },
  {
   "cell_type": "code",
   "execution_count": null,
   "id": "39a98317",
   "metadata": {},
   "outputs": [],
   "source": []
  },
  {
   "cell_type": "code",
   "execution_count": null,
   "id": "6669e9cf",
   "metadata": {},
   "outputs": [],
   "source": []
  },
  {
   "cell_type": "code",
   "execution_count": 7,
   "id": "c7eb63bf",
   "metadata": {},
   "outputs": [],
   "source": [
    "base_url = 'https://graph.facebook.com/me'"
   ]
  },
  {
   "cell_type": "code",
   "execution_count": 8,
   "id": "dc881dcd",
   "metadata": {},
   "outputs": [],
   "source": [
    "# Get 10 likes for 10 friends\n",
    "fields = 'id,name,friends.limit(10).fields(likes.limit(10))'"
   ]
  },
  {
   "cell_type": "code",
   "execution_count": 9,
   "id": "d8f3fa69",
   "metadata": {},
   "outputs": [],
   "source": [
    "url = '%s?fields=%s&access_token=%s'.format(base_url, fields, token,)"
   ]
  },
  {
   "cell_type": "code",
   "execution_count": 54,
   "id": "4a35ec41",
   "metadata": {},
   "outputs": [],
   "source": [
    "url = 'https://graph.facebook.com/me?id,name,friends.limit(10).fields(likes.limit(10))&EAAQsUV2EaxABAOQI9C4UAhlAl4apVHoEJlkHea5wOrjvvCY6fOZAl3HiAxGWQe6QGQtB642trkEndcxXZBPrpegvcvrDp1nzpv4udMtK1KRHcGC6VsThpvLPWAjZBcGkg9d4N0ktsfYHtZAQvIAfEnBeKOLmGiMNtMWbeLciKN5UnFtMIuGH'"
   ]
  },
  {
   "cell_type": "code",
   "execution_count": 55,
   "id": "a8c821c5",
   "metadata": {},
   "outputs": [
    {
     "name": "stdout",
     "output_type": "stream",
     "text": [
      "https://graph.facebook.com/me?id,name,friends.limit(10).fields(likes.limit(10))&EAAQsUV2EaxABAOQI9C4UAhlAl4apVHoEJlkHea5wOrjvvCY6fOZAl3HiAxGWQe6QGQtB642trkEndcxXZBPrpegvcvrDp1nzpv4udMtK1KRHcGC6VsThpvLPWAjZBcGkg9d4N0ktsfYHtZAQvIAfEnBeKOLmGiMNtMWbeLciKN5UnFtMIuGH\n"
     ]
    }
   ],
   "source": [
    "print(url)"
   ]
  },
  {
   "cell_type": "code",
   "execution_count": 56,
   "id": "3c821ca7",
   "metadata": {},
   "outputs": [],
   "source": [
    "# Interpret the response as JSON and convert back\n",
    "# to Python data structures\n",
    "content = requests.get(url).json()\n"
   ]
  },
  {
   "cell_type": "code",
   "execution_count": 57,
   "id": "985b0237",
   "metadata": {},
   "outputs": [
    {
     "name": "stdout",
     "output_type": "stream",
     "text": [
      "{\n",
      " \"error\": {\n",
      "  \"message\": \"An active access token must be used to query information about the current user.\",\n",
      "  \"type\": \"OAuthException\",\n",
      "  \"code\": 2500,\n",
      "  \"fbtrace_id\": \"An0_bKNRd9eoIDN95DwiLme\"\n",
      " }\n",
      "}\n"
     ]
    }
   ],
   "source": [
    "# Pretty-print the JSON and display it\n",
    "print(json.dumps(content, indent=1))"
   ]
  },
  {
   "cell_type": "code",
   "execution_count": null,
   "id": "d1808dfd",
   "metadata": {},
   "outputs": [],
   "source": []
  },
  {
   "cell_type": "code",
   "execution_count": null,
   "id": "d2994f3c",
   "metadata": {},
   "outputs": [],
   "source": []
  },
  {
   "cell_type": "code",
   "execution_count": null,
   "id": "b47e4777",
   "metadata": {},
   "outputs": [],
   "source": []
  },
  {
   "cell_type": "code",
   "execution_count": 13,
   "id": "f90de176",
   "metadata": {},
   "outputs": [],
   "source": [
    "token='EAAORCP4szTABAJjVEXZBSAUzBsEL9wJrXrOE2FbW0gPtEDob3UgsNxoWZAzdxWyYw4D4Xojip6jh1oVr9qHfBy3Nd0zxiZCnZATXiizUZATZAX2t8ZCnJY63gMbZCahOZCgKU9qRPDFiqfQqME9EuZBkeOfw74LeBZCE1lGkpoZCg2y7ZCoLcvMi2os3TR5RzC8utm7WbpAWsHOrCmgZDZD'"
   ]
  },
  {
   "cell_type": "code",
   "execution_count": 14,
   "id": "92f77739",
   "metadata": {},
   "outputs": [],
   "source": [
    "import facebook\n",
    "\n",
    "\n",
    "graph = facebook.GraphAPI(token)\n",
    "profile = graph.get_object(\"me\")\n",
    "friends = graph.get_connections(\"me\", \"friends\")"
   ]
  },
  {
   "cell_type": "code",
   "execution_count": 15,
   "id": "4648cc62",
   "metadata": {},
   "outputs": [],
   "source": [
    "g = facebook.GraphAPI(token)"
   ]
  },
  {
   "cell_type": "code",
   "execution_count": 16,
   "id": "1e67371c",
   "metadata": {},
   "outputs": [
    {
     "data": {
      "text/plain": [
       "<facebook.GraphAPI at 0x1cebc037ca0>"
      ]
     },
     "execution_count": 16,
     "metadata": {},
     "output_type": "execute_result"
    }
   ],
   "source": [
    "g"
   ]
  },
  {
   "cell_type": "code",
   "execution_count": 17,
   "id": "23137b14",
   "metadata": {},
   "outputs": [
    {
     "name": "stdout",
     "output_type": "stream",
     "text": [
      "Me\n",
      "---------------\n",
      "{\n",
      " \"name\": \"Bhakthi Gowda\",\n",
      " \"id\": \"3207364749538261\"\n",
      "}\n",
      "---------------\n",
      "My Friends\n",
      "---------------\n",
      "{\n",
      " \"data\": []\n",
      "}\n",
      "---------------\n",
      "Social Web\n",
      "---------------\n",
      "{\n",
      " \"data\": []\n",
      "}\n"
     ]
    }
   ],
   "source": [
    "import facebook # pip install facebook-sdk\n",
    "import json\n",
    "# A helper function to pretty-print Python objects as JSON\n",
    "def pp(o):\n",
    "    print(json.dumps(o, indent=1))\n",
    "# Create a connection to the Graph API with your access token\n",
    "g = facebook.GraphAPI(token)\n",
    "# Execute a few sample queries\n",
    "print('Me')\n",
    "print('---------------')\n",
    "pp(g.get_object('me'))\n",
    "print('---------------')\n",
    "print('My Friends')\n",
    "print('---------------')\n",
    "pp(g.get_connections('me', 'friends'))\n",
    "print('---------------')\n",
    "print('Social Web')\n",
    "print('---------------')\n",
    "pp(g.request(\"search\", {'q' : 'social web', 'type' : 'page'}))"
   ]
  },
  {
   "cell_type": "code",
   "execution_count": 18,
   "id": "bc8c752e",
   "metadata": {},
   "outputs": [
    {
     "name": "stdout",
     "output_type": "stream",
     "text": [
      "{'name': 'Bhakthi Gowda', 'id': '3207364749538261'}\n"
     ]
    }
   ],
   "source": [
    "graph = facebook.GraphAPI(token)\n",
    "profile = graph.get_object(\"me\")\n",
    "friends = graph.get_connections(\"me\", \"friends\")\n",
    "\n",
    "friend_list = [friend['name'] for friend in friends['data']]\n",
    "\n",
    "print(profile)"
   ]
  },
  {
   "cell_type": "code",
   "execution_count": 19,
   "id": "fd7c6680",
   "metadata": {},
   "outputs": [
    {
     "name": "stdout",
     "output_type": "stream",
     "text": [
      "[]\n"
     ]
    }
   ],
   "source": [
    "print(friend_list)"
   ]
  },
  {
   "cell_type": "code",
   "execution_count": 20,
   "id": "4e8c3e00",
   "metadata": {},
   "outputs": [],
   "source": [
    "g1=g.get_object(\"me\", metadata=1)#metadat=0, will not gives metadata value\n",
    "df2 = pd.DataFrame.from_dict(g1, orient=\"index\")"
   ]
  },
  {
   "cell_type": "code",
   "execution_count": 21,
   "id": "8c96b04e",
   "metadata": {},
   "outputs": [
    {
     "data": {
      "text/html": [
       "<div>\n",
       "<style scoped>\n",
       "    .dataframe tbody tr th:only-of-type {\n",
       "        vertical-align: middle;\n",
       "    }\n",
       "\n",
       "    .dataframe tbody tr th {\n",
       "        vertical-align: top;\n",
       "    }\n",
       "\n",
       "    .dataframe thead th {\n",
       "        text-align: right;\n",
       "    }\n",
       "</style>\n",
       "<table border=\"1\" class=\"dataframe\">\n",
       "  <thead>\n",
       "    <tr style=\"text-align: right;\">\n",
       "      <th></th>\n",
       "      <th>index</th>\n",
       "      <th>values</th>\n",
       "    </tr>\n",
       "  </thead>\n",
       "  <tbody>\n",
       "    <tr>\n",
       "      <th>0</th>\n",
       "      <td>name</td>\n",
       "      <td>Bhakthi Gowda</td>\n",
       "    </tr>\n",
       "    <tr>\n",
       "      <th>1</th>\n",
       "      <td>metadata</td>\n",
       "      <td>{'fields': [{'name': 'about', 'description': '...</td>\n",
       "    </tr>\n",
       "    <tr>\n",
       "      <th>2</th>\n",
       "      <td>id</td>\n",
       "      <td>3207364749538261</td>\n",
       "    </tr>\n",
       "  </tbody>\n",
       "</table>\n",
       "</div>"
      ],
      "text/plain": [
       "      index                                             values\n",
       "0      name                                      Bhakthi Gowda\n",
       "1  metadata  {'fields': [{'name': 'about', 'description': '...\n",
       "2        id                                   3207364749538261"
      ]
     },
     "execution_count": 21,
     "metadata": {},
     "output_type": "execute_result"
    }
   ],
   "source": [
    "df2=df2.reset_index()\n",
    "df2.rename(columns={0:'values'},inplace=True)\n",
    "df2"
   ]
  },
  {
   "cell_type": "code",
   "execution_count": 22,
   "id": "82cac1ba",
   "metadata": {},
   "outputs": [
    {
     "data": {
      "text/plain": [
       "{'me': {'name': 'Bhakthi Gowda',\n",
       "  'metadata': {'fields': [{'name': 'about',\n",
       "     'description': '*Returns no data as of April 4, 2018.*',\n",
       "     'type': 'string'},\n",
       "    {'name': 'id',\n",
       "     'description': \"The app user's App-Scoped User ID. This ID is unique to the app and cannot be used by other apps.\",\n",
       "     'type': 'numeric string'},\n",
       "    {'name': 'age_range',\n",
       "     'description': 'The age segment for this person expressed as a minimum and maximum age. For example, more than 18, less than 21.',\n",
       "     'type': 'agerange'},\n",
       "    {'name': 'birthday',\n",
       "     'description': \"The person's birthday.  This is a fixed format string, like `MM/DD/YYYY`.  However, people can control who can see the year they were born separately from the month and day so this string can be only the year (YYYY) or the month + day (MM/DD)\",\n",
       "     'type': 'string'},\n",
       "    {'name': 'education',\n",
       "     'description': '*Returns no data as of April 4, 2018.*',\n",
       "     'type': 'list<educationexperience>'},\n",
       "    {'name': 'email',\n",
       "     'description': \"The User's primary email address listed on their profile. This field will not be returned if no valid email address is available.\",\n",
       "     'type': 'string'},\n",
       "    {'name': 'favorite_athletes',\n",
       "     'description': 'Athletes the User likes.',\n",
       "     'type': 'list<experience>'},\n",
       "    {'name': 'favorite_teams',\n",
       "     'description': 'Sports teams the User likes.',\n",
       "     'type': 'list<experience>'},\n",
       "    {'name': 'first_name',\n",
       "     'description': \"The person's first name\",\n",
       "     'type': 'string'},\n",
       "    {'name': 'gender',\n",
       "     'description': 'The gender selected by this person, `male` or `female`. If the gender is set to a custom value, this value will be based off of the preferred pronoun; it will be omitted if the preferred pronoun is neutral',\n",
       "     'type': 'string'},\n",
       "    {'name': 'hometown',\n",
       "     'description': \"The person's hometown\",\n",
       "     'type': 'page'},\n",
       "    {'name': 'inspirational_people',\n",
       "     'description': \"The person's inspirational people\",\n",
       "     'type': 'list<experience>'},\n",
       "    {'name': 'install_type', 'description': 'Install type', 'type': 'enum'},\n",
       "    {'name': 'installed',\n",
       "     'description': 'Is the app making the request installed',\n",
       "     'type': 'bool'},\n",
       "    {'name': 'is_guest_user',\n",
       "     'description': 'if the current user is a guest user. should always return false.',\n",
       "     'type': 'bool'},\n",
       "    {'name': 'languages',\n",
       "     'description': 'Facebook Pages representing the languages this person knows',\n",
       "     'type': 'list<experience>'},\n",
       "    {'name': 'last_name',\n",
       "     'description': \"The person's last name\",\n",
       "     'type': 'string'},\n",
       "    {'name': 'link',\n",
       "     'description': \"A link to the person's Timeline. The link will only resolve if the person clicking the link is logged into Facebook and is a friend of the person whose profile is being viewed.\",\n",
       "     'type': 'string'},\n",
       "    {'name': 'location',\n",
       "     'description': \"The person's current location as entered by them on their profile. This field requires the `user_location` permission.\",\n",
       "     'type': 'page'},\n",
       "    {'name': 'meeting_for',\n",
       "     'description': 'What the person is interested in meeting for',\n",
       "     'type': 'list<string>'},\n",
       "    {'name': 'middle_name',\n",
       "     'description': \"The person's middle name\",\n",
       "     'type': 'string'},\n",
       "    {'name': 'name',\n",
       "     'description': \"The person's full name\",\n",
       "     'type': 'string'},\n",
       "    {'name': 'name_format',\n",
       "     'description': \"The person's name formatted to correctly handle Chinese, Japanese, or Korean ordering\",\n",
       "     'type': 'string'},\n",
       "    {'name': 'payment_pricepoints',\n",
       "     'description': \"The person's payment pricepoints\",\n",
       "     'type': 'paymentpricepoints'},\n",
       "    {'name': 'political',\n",
       "     'description': '*Returns no data as of April 4, 2018.*',\n",
       "     'type': 'string'},\n",
       "    {'name': 'profile_pic',\n",
       "     'description': 'The profile picture URL of the Messenger user. The URL will expire.',\n",
       "     'type': 'string'},\n",
       "    {'name': 'quotes',\n",
       "     'description': \"The person's favorite quotes\",\n",
       "     'type': 'string'},\n",
       "    {'name': 'relationship_status',\n",
       "     'description': '*Returns no data as of April 4, 2018.*',\n",
       "     'type': 'string'},\n",
       "    {'name': 'shared_login_upgrade_required_by',\n",
       "     'description': 'The time that the shared login needs to be upgraded to Business Manager by',\n",
       "     'type': 'datetime'},\n",
       "    {'name': 'short_name',\n",
       "     'description': 'Shortened, locale-aware name for the person',\n",
       "     'type': 'string'},\n",
       "    {'name': 'significant_other',\n",
       "     'description': \"The person's significant other\",\n",
       "     'type': 'user'},\n",
       "    {'name': 'sports',\n",
       "     'description': 'Sports played by the person',\n",
       "     'type': 'list<experience>'},\n",
       "    {'name': 'supports_donate_button_in_live_video',\n",
       "     'description': 'Whether the user can add a Donate Button to their Live Videos',\n",
       "     'type': 'bool'},\n",
       "    {'name': 'token_for_business',\n",
       "     'description': \"A token that is the same across a business's apps. Access to this token requires that the person be logged into your app or have a role on your app. This token will change if the business owning the app changes\",\n",
       "     'type': 'string'},\n",
       "    {'name': 'video_upload_limits',\n",
       "     'description': 'Video upload limits',\n",
       "     'type': 'videouploadlimits'},\n",
       "    {'name': 'website',\n",
       "     'description': '*Returns no data as of April 4, 2018.*',\n",
       "     'type': 'string'}],\n",
       "   'type': 'user',\n",
       "   'connections': {'accounts': 'https://graph.facebook.com/v14.0/3207364749538261/accounts?access_token=EAAORCP4szTABAJjVEXZBSAUzBsEL9wJrXrOE2FbW0gPtEDob3UgsNxoWZAzdxWyYw4D4Xojip6jh1oVr9qHfBy3Nd0zxiZCnZATXiizUZATZAX2t8ZCnJY63gMbZCahOZCgKU9qRPDFiqfQqME9EuZBkeOfw74LeBZCE1lGkpoZCg2y7ZCoLcvMi2os3TR5RzC8utm7WbpAWsHOrCmgZDZD',\n",
       "    'ad_studies': 'https://graph.facebook.com/v14.0/3207364749538261/ad_studies?access_token=EAAORCP4szTABAJjVEXZBSAUzBsEL9wJrXrOE2FbW0gPtEDob3UgsNxoWZAzdxWyYw4D4Xojip6jh1oVr9qHfBy3Nd0zxiZCnZATXiizUZATZAX2t8ZCnJY63gMbZCahOZCgKU9qRPDFiqfQqME9EuZBkeOfw74LeBZCE1lGkpoZCg2y7ZCoLcvMi2os3TR5RzC8utm7WbpAWsHOrCmgZDZD',\n",
       "    'adaccounts': 'https://graph.facebook.com/v14.0/3207364749538261/adaccounts?access_token=EAAORCP4szTABAJjVEXZBSAUzBsEL9wJrXrOE2FbW0gPtEDob3UgsNxoWZAzdxWyYw4D4Xojip6jh1oVr9qHfBy3Nd0zxiZCnZATXiizUZATZAX2t8ZCnJY63gMbZCahOZCgKU9qRPDFiqfQqME9EuZBkeOfw74LeBZCE1lGkpoZCg2y7ZCoLcvMi2os3TR5RzC8utm7WbpAWsHOrCmgZDZD',\n",
       "    'albums': 'https://graph.facebook.com/v14.0/3207364749538261/albums?access_token=EAAORCP4szTABAJjVEXZBSAUzBsEL9wJrXrOE2FbW0gPtEDob3UgsNxoWZAzdxWyYw4D4Xojip6jh1oVr9qHfBy3Nd0zxiZCnZATXiizUZATZAX2t8ZCnJY63gMbZCahOZCgKU9qRPDFiqfQqME9EuZBkeOfw74LeBZCE1lGkpoZCg2y7ZCoLcvMi2os3TR5RzC8utm7WbpAWsHOrCmgZDZD',\n",
       "    'apprequestformerrecipients': 'https://graph.facebook.com/v14.0/3207364749538261/apprequestformerrecipients?access_token=EAAORCP4szTABAJjVEXZBSAUzBsEL9wJrXrOE2FbW0gPtEDob3UgsNxoWZAzdxWyYw4D4Xojip6jh1oVr9qHfBy3Nd0zxiZCnZATXiizUZATZAX2t8ZCnJY63gMbZCahOZCgKU9qRPDFiqfQqME9EuZBkeOfw74LeBZCE1lGkpoZCg2y7ZCoLcvMi2os3TR5RzC8utm7WbpAWsHOrCmgZDZD',\n",
       "    'apprequests': 'https://graph.facebook.com/v14.0/3207364749538261/apprequests?access_token=EAAORCP4szTABAJjVEXZBSAUzBsEL9wJrXrOE2FbW0gPtEDob3UgsNxoWZAzdxWyYw4D4Xojip6jh1oVr9qHfBy3Nd0zxiZCnZATXiizUZATZAX2t8ZCnJY63gMbZCahOZCgKU9qRPDFiqfQqME9EuZBkeOfw74LeBZCE1lGkpoZCg2y7ZCoLcvMi2os3TR5RzC8utm7WbpAWsHOrCmgZDZD',\n",
       "    'assigned_ad_accounts': 'https://graph.facebook.com/v14.0/3207364749538261/assigned_ad_accounts?access_token=EAAORCP4szTABAJjVEXZBSAUzBsEL9wJrXrOE2FbW0gPtEDob3UgsNxoWZAzdxWyYw4D4Xojip6jh1oVr9qHfBy3Nd0zxiZCnZATXiizUZATZAX2t8ZCnJY63gMbZCahOZCgKU9qRPDFiqfQqME9EuZBkeOfw74LeBZCE1lGkpoZCg2y7ZCoLcvMi2os3TR5RzC8utm7WbpAWsHOrCmgZDZD',\n",
       "    'assigned_business_asset_groups': 'https://graph.facebook.com/v14.0/3207364749538261/assigned_business_asset_groups?access_token=EAAORCP4szTABAJjVEXZBSAUzBsEL9wJrXrOE2FbW0gPtEDob3UgsNxoWZAzdxWyYw4D4Xojip6jh1oVr9qHfBy3Nd0zxiZCnZATXiizUZATZAX2t8ZCnJY63gMbZCahOZCgKU9qRPDFiqfQqME9EuZBkeOfw74LeBZCE1lGkpoZCg2y7ZCoLcvMi2os3TR5RzC8utm7WbpAWsHOrCmgZDZD',\n",
       "    'assigned_pages': 'https://graph.facebook.com/v14.0/3207364749538261/assigned_pages?access_token=EAAORCP4szTABAJjVEXZBSAUzBsEL9wJrXrOE2FbW0gPtEDob3UgsNxoWZAzdxWyYw4D4Xojip6jh1oVr9qHfBy3Nd0zxiZCnZATXiizUZATZAX2t8ZCnJY63gMbZCahOZCgKU9qRPDFiqfQqME9EuZBkeOfw74LeBZCE1lGkpoZCg2y7ZCoLcvMi2os3TR5RzC8utm7WbpAWsHOrCmgZDZD',\n",
       "    'assigned_product_catalogs': 'https://graph.facebook.com/v14.0/3207364749538261/assigned_product_catalogs?access_token=EAAORCP4szTABAJjVEXZBSAUzBsEL9wJrXrOE2FbW0gPtEDob3UgsNxoWZAzdxWyYw4D4Xojip6jh1oVr9qHfBy3Nd0zxiZCnZATXiizUZATZAX2t8ZCnJY63gMbZCahOZCgKU9qRPDFiqfQqME9EuZBkeOfw74LeBZCE1lGkpoZCg2y7ZCoLcvMi2os3TR5RzC8utm7WbpAWsHOrCmgZDZD',\n",
       "    'business_users': 'https://graph.facebook.com/v14.0/3207364749538261/business_users?access_token=EAAORCP4szTABAJjVEXZBSAUzBsEL9wJrXrOE2FbW0gPtEDob3UgsNxoWZAzdxWyYw4D4Xojip6jh1oVr9qHfBy3Nd0zxiZCnZATXiizUZATZAX2t8ZCnJY63gMbZCahOZCgKU9qRPDFiqfQqME9EuZBkeOfw74LeBZCE1lGkpoZCg2y7ZCoLcvMi2os3TR5RzC8utm7WbpAWsHOrCmgZDZD',\n",
       "    'businesses': 'https://graph.facebook.com/v14.0/3207364749538261/businesses?access_token=EAAORCP4szTABAJjVEXZBSAUzBsEL9wJrXrOE2FbW0gPtEDob3UgsNxoWZAzdxWyYw4D4Xojip6jh1oVr9qHfBy3Nd0zxiZCnZATXiizUZATZAX2t8ZCnJY63gMbZCahOZCgKU9qRPDFiqfQqME9EuZBkeOfw74LeBZCE1lGkpoZCg2y7ZCoLcvMi2os3TR5RzC8utm7WbpAWsHOrCmgZDZD',\n",
       "    'conversations': 'https://graph.facebook.com/v14.0/3207364749538261/conversations?access_token=EAAORCP4szTABAJjVEXZBSAUzBsEL9wJrXrOE2FbW0gPtEDob3UgsNxoWZAzdxWyYw4D4Xojip6jh1oVr9qHfBy3Nd0zxiZCnZATXiizUZATZAX2t8ZCnJY63gMbZCahOZCgKU9qRPDFiqfQqME9EuZBkeOfw74LeBZCE1lGkpoZCg2y7ZCoLcvMi2os3TR5RzC8utm7WbpAWsHOrCmgZDZD',\n",
       "    'custom_labels': 'https://graph.facebook.com/v14.0/3207364749538261/custom_labels?access_token=EAAORCP4szTABAJjVEXZBSAUzBsEL9wJrXrOE2FbW0gPtEDob3UgsNxoWZAzdxWyYw4D4Xojip6jh1oVr9qHfBy3Nd0zxiZCnZATXiizUZATZAX2t8ZCnJY63gMbZCahOZCgKU9qRPDFiqfQqME9EuZBkeOfw74LeBZCE1lGkpoZCg2y7ZCoLcvMi2os3TR5RzC8utm7WbpAWsHOrCmgZDZD',\n",
       "    'events': 'https://graph.facebook.com/v14.0/3207364749538261/events?access_token=EAAORCP4szTABAJjVEXZBSAUzBsEL9wJrXrOE2FbW0gPtEDob3UgsNxoWZAzdxWyYw4D4Xojip6jh1oVr9qHfBy3Nd0zxiZCnZATXiizUZATZAX2t8ZCnJY63gMbZCahOZCgKU9qRPDFiqfQqME9EuZBkeOfw74LeBZCE1lGkpoZCg2y7ZCoLcvMi2os3TR5RzC8utm7WbpAWsHOrCmgZDZD',\n",
       "    'feed': 'https://graph.facebook.com/v14.0/3207364749538261/feed?access_token=EAAORCP4szTABAJjVEXZBSAUzBsEL9wJrXrOE2FbW0gPtEDob3UgsNxoWZAzdxWyYw4D4Xojip6jh1oVr9qHfBy3Nd0zxiZCnZATXiizUZATZAX2t8ZCnJY63gMbZCahOZCgKU9qRPDFiqfQqME9EuZBkeOfw74LeBZCE1lGkpoZCg2y7ZCoLcvMi2os3TR5RzC8utm7WbpAWsHOrCmgZDZD',\n",
       "    'friends': 'https://graph.facebook.com/v14.0/3207364749538261/friends?access_token=EAAORCP4szTABAJjVEXZBSAUzBsEL9wJrXrOE2FbW0gPtEDob3UgsNxoWZAzdxWyYw4D4Xojip6jh1oVr9qHfBy3Nd0zxiZCnZATXiizUZATZAX2t8ZCnJY63gMbZCahOZCgKU9qRPDFiqfQqME9EuZBkeOfw74LeBZCE1lGkpoZCg2y7ZCoLcvMi2os3TR5RzC8utm7WbpAWsHOrCmgZDZD',\n",
       "    'fundraisers': 'https://graph.facebook.com/v14.0/3207364749538261/fundraisers?access_token=EAAORCP4szTABAJjVEXZBSAUzBsEL9wJrXrOE2FbW0gPtEDob3UgsNxoWZAzdxWyYw4D4Xojip6jh1oVr9qHfBy3Nd0zxiZCnZATXiizUZATZAX2t8ZCnJY63gMbZCahOZCgKU9qRPDFiqfQqME9EuZBkeOfw74LeBZCE1lGkpoZCg2y7ZCoLcvMi2os3TR5RzC8utm7WbpAWsHOrCmgZDZD',\n",
       "    'groups': 'https://graph.facebook.com/v14.0/3207364749538261/groups?access_token=EAAORCP4szTABAJjVEXZBSAUzBsEL9wJrXrOE2FbW0gPtEDob3UgsNxoWZAzdxWyYw4D4Xojip6jh1oVr9qHfBy3Nd0zxiZCnZATXiizUZATZAX2t8ZCnJY63gMbZCahOZCgKU9qRPDFiqfQqME9EuZBkeOfw74LeBZCE1lGkpoZCg2y7ZCoLcvMi2os3TR5RzC8utm7WbpAWsHOrCmgZDZD',\n",
       "    'ids_for_apps': 'https://graph.facebook.com/v14.0/3207364749538261/ids_for_apps?access_token=EAAORCP4szTABAJjVEXZBSAUzBsEL9wJrXrOE2FbW0gPtEDob3UgsNxoWZAzdxWyYw4D4Xojip6jh1oVr9qHfBy3Nd0zxiZCnZATXiizUZATZAX2t8ZCnJY63gMbZCahOZCgKU9qRPDFiqfQqME9EuZBkeOfw74LeBZCE1lGkpoZCg2y7ZCoLcvMi2os3TR5RzC8utm7WbpAWsHOrCmgZDZD',\n",
       "    'ids_for_business': 'https://graph.facebook.com/v14.0/3207364749538261/ids_for_business?access_token=EAAORCP4szTABAJjVEXZBSAUzBsEL9wJrXrOE2FbW0gPtEDob3UgsNxoWZAzdxWyYw4D4Xojip6jh1oVr9qHfBy3Nd0zxiZCnZATXiizUZATZAX2t8ZCnJY63gMbZCahOZCgKU9qRPDFiqfQqME9EuZBkeOfw74LeBZCE1lGkpoZCg2y7ZCoLcvMi2os3TR5RzC8utm7WbpAWsHOrCmgZDZD',\n",
       "    'ids_for_pages': 'https://graph.facebook.com/v14.0/3207364749538261/ids_for_pages?access_token=EAAORCP4szTABAJjVEXZBSAUzBsEL9wJrXrOE2FbW0gPtEDob3UgsNxoWZAzdxWyYw4D4Xojip6jh1oVr9qHfBy3Nd0zxiZCnZATXiizUZATZAX2t8ZCnJY63gMbZCahOZCgKU9qRPDFiqfQqME9EuZBkeOfw74LeBZCE1lGkpoZCg2y7ZCoLcvMi2os3TR5RzC8utm7WbpAWsHOrCmgZDZD',\n",
       "    'likes': 'https://graph.facebook.com/v14.0/3207364749538261/likes?access_token=EAAORCP4szTABAJjVEXZBSAUzBsEL9wJrXrOE2FbW0gPtEDob3UgsNxoWZAzdxWyYw4D4Xojip6jh1oVr9qHfBy3Nd0zxiZCnZATXiizUZATZAX2t8ZCnJY63gMbZCahOZCgKU9qRPDFiqfQqME9EuZBkeOfw74LeBZCE1lGkpoZCg2y7ZCoLcvMi2os3TR5RzC8utm7WbpAWsHOrCmgZDZD',\n",
       "    'live_videos': 'https://graph.facebook.com/v14.0/3207364749538261/live_videos?access_token=EAAORCP4szTABAJjVEXZBSAUzBsEL9wJrXrOE2FbW0gPtEDob3UgsNxoWZAzdxWyYw4D4Xojip6jh1oVr9qHfBy3Nd0zxiZCnZATXiizUZATZAX2t8ZCnJY63gMbZCahOZCgKU9qRPDFiqfQqME9EuZBkeOfw74LeBZCE1lGkpoZCg2y7ZCoLcvMi2os3TR5RzC8utm7WbpAWsHOrCmgZDZD',\n",
       "    'music': 'https://graph.facebook.com/v14.0/3207364749538261/music?access_token=EAAORCP4szTABAJjVEXZBSAUzBsEL9wJrXrOE2FbW0gPtEDob3UgsNxoWZAzdxWyYw4D4Xojip6jh1oVr9qHfBy3Nd0zxiZCnZATXiizUZATZAX2t8ZCnJY63gMbZCahOZCgKU9qRPDFiqfQqME9EuZBkeOfw74LeBZCE1lGkpoZCg2y7ZCoLcvMi2os3TR5RzC8utm7WbpAWsHOrCmgZDZD',\n",
       "    'payment.subscriptions': 'https://graph.facebook.com/v14.0/3207364749538261/payment.subscriptions?access_token=EAAORCP4szTABAJjVEXZBSAUzBsEL9wJrXrOE2FbW0gPtEDob3UgsNxoWZAzdxWyYw4D4Xojip6jh1oVr9qHfBy3Nd0zxiZCnZATXiizUZATZAX2t8ZCnJY63gMbZCahOZCgKU9qRPDFiqfQqME9EuZBkeOfw74LeBZCE1lGkpoZCg2y7ZCoLcvMi2os3TR5RzC8utm7WbpAWsHOrCmgZDZD',\n",
       "    'payment_transactions': 'https://graph.facebook.com/v14.0/3207364749538261/payment_transactions?access_token=EAAORCP4szTABAJjVEXZBSAUzBsEL9wJrXrOE2FbW0gPtEDob3UgsNxoWZAzdxWyYw4D4Xojip6jh1oVr9qHfBy3Nd0zxiZCnZATXiizUZATZAX2t8ZCnJY63gMbZCahOZCgKU9qRPDFiqfQqME9EuZBkeOfw74LeBZCE1lGkpoZCg2y7ZCoLcvMi2os3TR5RzC8utm7WbpAWsHOrCmgZDZD',\n",
       "    'permissions': 'https://graph.facebook.com/v14.0/3207364749538261/permissions?access_token=EAAORCP4szTABAJjVEXZBSAUzBsEL9wJrXrOE2FbW0gPtEDob3UgsNxoWZAzdxWyYw4D4Xojip6jh1oVr9qHfBy3Nd0zxiZCnZATXiizUZATZAX2t8ZCnJY63gMbZCahOZCgKU9qRPDFiqfQqME9EuZBkeOfw74LeBZCE1lGkpoZCg2y7ZCoLcvMi2os3TR5RzC8utm7WbpAWsHOrCmgZDZD',\n",
       "    'personal_ad_accounts': 'https://graph.facebook.com/v14.0/3207364749538261/personal_ad_accounts?access_token=EAAORCP4szTABAJjVEXZBSAUzBsEL9wJrXrOE2FbW0gPtEDob3UgsNxoWZAzdxWyYw4D4Xojip6jh1oVr9qHfBy3Nd0zxiZCnZATXiizUZATZAX2t8ZCnJY63gMbZCahOZCgKU9qRPDFiqfQqME9EuZBkeOfw74LeBZCE1lGkpoZCg2y7ZCoLcvMi2os3TR5RzC8utm7WbpAWsHOrCmgZDZD',\n",
       "    'photos': 'https://graph.facebook.com/v14.0/3207364749538261/photos?access_token=EAAORCP4szTABAJjVEXZBSAUzBsEL9wJrXrOE2FbW0gPtEDob3UgsNxoWZAzdxWyYw4D4Xojip6jh1oVr9qHfBy3Nd0zxiZCnZATXiizUZATZAX2t8ZCnJY63gMbZCahOZCgKU9qRPDFiqfQqME9EuZBkeOfw74LeBZCE1lGkpoZCg2y7ZCoLcvMi2os3TR5RzC8utm7WbpAWsHOrCmgZDZD',\n",
       "    'picture': 'https://graph.facebook.com/v14.0/3207364749538261/picture?access_token=EAAORCP4szTABAJjVEXZBSAUzBsEL9wJrXrOE2FbW0gPtEDob3UgsNxoWZAzdxWyYw4D4Xojip6jh1oVr9qHfBy3Nd0zxiZCnZATXiizUZATZAX2t8ZCnJY63gMbZCahOZCgKU9qRPDFiqfQqME9EuZBkeOfw74LeBZCE1lGkpoZCg2y7ZCoLcvMi2os3TR5RzC8utm7WbpAWsHOrCmgZDZD',\n",
       "    'pioneer_data': 'https://graph.facebook.com/v14.0/3207364749538261/pioneer_data?access_token=EAAORCP4szTABAJjVEXZBSAUzBsEL9wJrXrOE2FbW0gPtEDob3UgsNxoWZAzdxWyYw4D4Xojip6jh1oVr9qHfBy3Nd0zxiZCnZATXiizUZATZAX2t8ZCnJY63gMbZCahOZCgKU9qRPDFiqfQqME9EuZBkeOfw74LeBZCE1lGkpoZCg2y7ZCoLcvMi2os3TR5RzC8utm7WbpAWsHOrCmgZDZD',\n",
       "    'posts': 'https://graph.facebook.com/v14.0/3207364749538261/posts?access_token=EAAORCP4szTABAJjVEXZBSAUzBsEL9wJrXrOE2FbW0gPtEDob3UgsNxoWZAzdxWyYw4D4Xojip6jh1oVr9qHfBy3Nd0zxiZCnZATXiizUZATZAX2t8ZCnJY63gMbZCahOZCgKU9qRPDFiqfQqME9EuZBkeOfw74LeBZCE1lGkpoZCg2y7ZCoLcvMi2os3TR5RzC8utm7WbpAWsHOrCmgZDZD',\n",
       "    'rich_media_documents': 'https://graph.facebook.com/v14.0/3207364749538261/rich_media_documents?access_token=EAAORCP4szTABAJjVEXZBSAUzBsEL9wJrXrOE2FbW0gPtEDob3UgsNxoWZAzdxWyYw4D4Xojip6jh1oVr9qHfBy3Nd0zxiZCnZATXiizUZATZAX2t8ZCnJY63gMbZCahOZCgKU9qRPDFiqfQqME9EuZBkeOfw74LeBZCE1lGkpoZCg2y7ZCoLcvMi2os3TR5RzC8utm7WbpAWsHOrCmgZDZD',\n",
       "    'videos': 'https://graph.facebook.com/v14.0/3207364749538261/videos?access_token=EAAORCP4szTABAJjVEXZBSAUzBsEL9wJrXrOE2FbW0gPtEDob3UgsNxoWZAzdxWyYw4D4Xojip6jh1oVr9qHfBy3Nd0zxiZCnZATXiizUZATZAX2t8ZCnJY63gMbZCahOZCgKU9qRPDFiqfQqME9EuZBkeOfw74LeBZCE1lGkpoZCg2y7ZCoLcvMi2os3TR5RzC8utm7WbpAWsHOrCmgZDZD'}},\n",
       "  'id': '3207364749538261'}}"
      ]
     },
     "execution_count": 22,
     "metadata": {},
     "output_type": "execute_result"
    }
   ],
   "source": [
    "g.get_objects([\"me\"], metadata=1)"
   ]
  },
  {
   "cell_type": "code",
   "execution_count": 30,
   "id": "3c2c0b48",
   "metadata": {},
   "outputs": [
    {
     "data": {
      "text/plain": [
       "{'data': []}"
      ]
     },
     "execution_count": 30,
     "metadata": {},
     "output_type": "execute_result"
    }
   ],
   "source": [
    "g.get_connections(\"me\", \"friends\", metadata=1)"
   ]
  },
  {
   "cell_type": "code",
   "execution_count": 31,
   "id": "10f2ea22",
   "metadata": {},
   "outputs": [
    {
     "data": {
      "text/plain": [
       "{'data': []}"
      ]
     },
     "execution_count": 31,
     "metadata": {},
     "output_type": "execute_result"
    }
   ],
   "source": [
    "g.request(\"search\", {\"q\" : \"social web\", \"type\" : \"page\"})"
   ]
  },
  {
   "cell_type": "code",
   "execution_count": 32,
   "id": "5c2687e4",
   "metadata": {},
   "outputs": [
    {
     "data": {
      "text/html": [
       "<div>\n",
       "<style scoped>\n",
       "    .dataframe tbody tr th:only-of-type {\n",
       "        vertical-align: middle;\n",
       "    }\n",
       "\n",
       "    .dataframe tbody tr th {\n",
       "        vertical-align: top;\n",
       "    }\n",
       "\n",
       "    .dataframe thead th {\n",
       "        text-align: right;\n",
       "    }\n",
       "</style>\n",
       "<table border=\"1\" class=\"dataframe\">\n",
       "  <thead>\n",
       "    <tr style=\"text-align: right;\">\n",
       "      <th></th>\n",
       "      <th>index</th>\n",
       "      <th>values</th>\n",
       "    </tr>\n",
       "  </thead>\n",
       "  <tbody>\n",
       "    <tr>\n",
       "      <th>0</th>\n",
       "      <td>name</td>\n",
       "      <td>Bhakthi Gowda</td>\n",
       "    </tr>\n",
       "    <tr>\n",
       "      <th>1</th>\n",
       "      <td>metadata</td>\n",
       "      <td>{'fields': [{'name': 'about', 'description': '...</td>\n",
       "    </tr>\n",
       "    <tr>\n",
       "      <th>2</th>\n",
       "      <td>id</td>\n",
       "      <td>3207364749538261</td>\n",
       "    </tr>\n",
       "  </tbody>\n",
       "</table>\n",
       "</div>"
      ],
      "text/plain": [
       "      index                                             values\n",
       "0      name                                      Bhakthi Gowda\n",
       "1  metadata  {'fields': [{'name': 'about', 'description': '...\n",
       "2        id                                   3207364749538261"
      ]
     },
     "execution_count": 32,
     "metadata": {},
     "output_type": "execute_result"
    }
   ],
   "source": [
    "df2"
   ]
  },
  {
   "cell_type": "code",
   "execution_count": 33,
   "id": "4a7a4c78",
   "metadata": {},
   "outputs": [
    {
     "name": "stdout",
     "output_type": "stream",
     "text": [
      "{\n",
      " \"data\": []\n",
      "}\n",
      "{\n",
      " \"data\": []\n",
      "}\n"
     ]
    }
   ],
   "source": [
    "# Find Pepsi and Coke in search results\n",
    "pp(g.request('search', {'q' : 'pepsi', 'type' : 'page', 'limit' : 5}))\n",
    "pp(g.request('search', {'q' : 'coke', 'type' : 'page', 'limit' : 5}))\n"
   ]
  },
  {
   "cell_type": "code",
   "execution_count": 34,
   "id": "b0d181c1",
   "metadata": {},
   "outputs": [
    {
     "ename": "GraphAPIError",
     "evalue": "(#10) This endpoint requires the 'pages_read_engagement' permission or the 'Page Public Content Access' feature or the 'Page Public Metadata Access' feature. Refer to https://developers.facebook.com/docs/apps/review/login-permissions#manage-pages, https://developers.facebook.com/docs/apps/review/feature#reference-PAGES_ACCESS and https://developers.facebook.com/docs/apps/review/feature#page-public-metadata-access for details.",
     "output_type": "error",
     "traceback": [
      "\u001b[1;31m---------------------------------------------------------------------------\u001b[0m",
      "\u001b[1;31mGraphAPIError\u001b[0m                             Traceback (most recent call last)",
      "\u001b[1;32m<ipython-input-34-265a3ad7b902>\u001b[0m in \u001b[0;36m<module>\u001b[1;34m\u001b[0m\n\u001b[0;32m      4\u001b[0m \u001b[1;31m# A quick way to format integers with commas every 3 digits\u001b[0m\u001b[1;33m\u001b[0m\u001b[1;33m\u001b[0m\u001b[1;33m\u001b[0m\u001b[0m\n\u001b[0;32m      5\u001b[0m \u001b[1;32mdef\u001b[0m \u001b[0mint_format\u001b[0m\u001b[1;33m(\u001b[0m\u001b[0mn\u001b[0m\u001b[1;33m)\u001b[0m\u001b[1;33m:\u001b[0m \u001b[1;32mreturn\u001b[0m \u001b[1;34m\"{:,}\"\u001b[0m\u001b[1;33m.\u001b[0m\u001b[0mformat\u001b[0m\u001b[1;33m(\u001b[0m\u001b[0mn\u001b[0m\u001b[1;33m)\u001b[0m\u001b[1;33m\u001b[0m\u001b[1;33m\u001b[0m\u001b[0m\n\u001b[1;32m----> 6\u001b[1;33m \u001b[0mprint\u001b[0m\u001b[1;33m(\u001b[0m\u001b[1;34m\"Pepsi likes:\"\u001b[0m\u001b[1;33m,\u001b[0m \u001b[0mint_format\u001b[0m\u001b[1;33m(\u001b[0m\u001b[0mg\u001b[0m\u001b[1;33m.\u001b[0m\u001b[0mget_object\u001b[0m\u001b[1;33m(\u001b[0m\u001b[0mpepsi_id\u001b[0m\u001b[1;33m)\u001b[0m\u001b[1;33m[\u001b[0m\u001b[1;34m'likes'\u001b[0m\u001b[1;33m]\u001b[0m\u001b[1;33m)\u001b[0m\u001b[1;33m)\u001b[0m\u001b[1;33m\u001b[0m\u001b[1;33m\u001b[0m\u001b[0m\n\u001b[0m\u001b[0;32m      7\u001b[0m \u001b[0mprint\u001b[0m\u001b[1;33m(\u001b[0m\u001b[1;34m\"Coke likes:\"\u001b[0m\u001b[1;33m,\u001b[0m \u001b[0mint_format\u001b[0m\u001b[1;33m(\u001b[0m\u001b[0mg\u001b[0m\u001b[1;33m.\u001b[0m\u001b[0mget_object\u001b[0m\u001b[1;33m(\u001b[0m\u001b[0mcoke_id\u001b[0m\u001b[1;33m)\u001b[0m\u001b[1;33m[\u001b[0m\u001b[1;34m'likes'\u001b[0m\u001b[1;33m]\u001b[0m\u001b[1;33m)\u001b[0m\u001b[1;33m)\u001b[0m\u001b[1;33m\u001b[0m\u001b[1;33m\u001b[0m\u001b[0m\n",
      "\u001b[1;32m~\\anaconda3\\lib\\site-packages\\facebook\\__init__.py\u001b[0m in \u001b[0;36mget_object\u001b[1;34m(self, id, **args)\u001b[0m\n\u001b[0;32m    124\u001b[0m     \u001b[1;32mdef\u001b[0m \u001b[0mget_object\u001b[0m\u001b[1;33m(\u001b[0m\u001b[0mself\u001b[0m\u001b[1;33m,\u001b[0m \u001b[0mid\u001b[0m\u001b[1;33m,\u001b[0m \u001b[1;33m**\u001b[0m\u001b[0margs\u001b[0m\u001b[1;33m)\u001b[0m\u001b[1;33m:\u001b[0m\u001b[1;33m\u001b[0m\u001b[1;33m\u001b[0m\u001b[0m\n\u001b[0;32m    125\u001b[0m         \u001b[1;34m\"\"\"Fetches the given object from the graph.\"\"\"\u001b[0m\u001b[1;33m\u001b[0m\u001b[1;33m\u001b[0m\u001b[0m\n\u001b[1;32m--> 126\u001b[1;33m         \u001b[1;32mreturn\u001b[0m \u001b[0mself\u001b[0m\u001b[1;33m.\u001b[0m\u001b[0mrequest\u001b[0m\u001b[1;33m(\u001b[0m\u001b[1;34m\"{0}/{1}\"\u001b[0m\u001b[1;33m.\u001b[0m\u001b[0mformat\u001b[0m\u001b[1;33m(\u001b[0m\u001b[0mself\u001b[0m\u001b[1;33m.\u001b[0m\u001b[0mversion\u001b[0m\u001b[1;33m,\u001b[0m \u001b[0mid\u001b[0m\u001b[1;33m)\u001b[0m\u001b[1;33m,\u001b[0m \u001b[0margs\u001b[0m\u001b[1;33m)\u001b[0m\u001b[1;33m\u001b[0m\u001b[1;33m\u001b[0m\u001b[0m\n\u001b[0m\u001b[0;32m    127\u001b[0m \u001b[1;33m\u001b[0m\u001b[0m\n\u001b[0;32m    128\u001b[0m     \u001b[1;32mdef\u001b[0m \u001b[0mget_objects\u001b[0m\u001b[1;33m(\u001b[0m\u001b[0mself\u001b[0m\u001b[1;33m,\u001b[0m \u001b[0mids\u001b[0m\u001b[1;33m,\u001b[0m \u001b[1;33m**\u001b[0m\u001b[0margs\u001b[0m\u001b[1;33m)\u001b[0m\u001b[1;33m:\u001b[0m\u001b[1;33m\u001b[0m\u001b[1;33m\u001b[0m\u001b[0m\n",
      "\u001b[1;32m~\\anaconda3\\lib\\site-packages\\facebook\\__init__.py\u001b[0m in \u001b[0;36mrequest\u001b[1;34m(self, path, args, post_args, files, method)\u001b[0m\n\u001b[0;32m    311\u001b[0m \u001b[1;33m\u001b[0m\u001b[0m\n\u001b[0;32m    312\u001b[0m         \u001b[1;32mif\u001b[0m \u001b[0mresult\u001b[0m \u001b[1;32mand\u001b[0m \u001b[0misinstance\u001b[0m\u001b[1;33m(\u001b[0m\u001b[0mresult\u001b[0m\u001b[1;33m,\u001b[0m \u001b[0mdict\u001b[0m\u001b[1;33m)\u001b[0m \u001b[1;32mand\u001b[0m \u001b[0mresult\u001b[0m\u001b[1;33m.\u001b[0m\u001b[0mget\u001b[0m\u001b[1;33m(\u001b[0m\u001b[1;34m\"error\"\u001b[0m\u001b[1;33m)\u001b[0m\u001b[1;33m:\u001b[0m\u001b[1;33m\u001b[0m\u001b[1;33m\u001b[0m\u001b[0m\n\u001b[1;32m--> 313\u001b[1;33m             \u001b[1;32mraise\u001b[0m \u001b[0mGraphAPIError\u001b[0m\u001b[1;33m(\u001b[0m\u001b[0mresult\u001b[0m\u001b[1;33m)\u001b[0m\u001b[1;33m\u001b[0m\u001b[1;33m\u001b[0m\u001b[0m\n\u001b[0m\u001b[0;32m    314\u001b[0m         \u001b[1;32mreturn\u001b[0m \u001b[0mresult\u001b[0m\u001b[1;33m\u001b[0m\u001b[1;33m\u001b[0m\u001b[0m\n\u001b[0;32m    315\u001b[0m \u001b[1;33m\u001b[0m\u001b[0m\n",
      "\u001b[1;31mGraphAPIError\u001b[0m: (#10) This endpoint requires the 'pages_read_engagement' permission or the 'Page Public Content Access' feature or the 'Page Public Metadata Access' feature. Refer to https://developers.facebook.com/docs/apps/review/login-permissions#manage-pages, https://developers.facebook.com/docs/apps/review/feature#reference-PAGES_ACCESS and https://developers.facebook.com/docs/apps/review/feature#page-public-metadata-access for details."
     ]
    }
   ],
   "source": [
    "# Use the ids to query for likes\n",
    "pepsi_id = '56381779049' # Could also use 'PepsiUS'\n",
    "coke_id = '40796308305' # Could also use 'CocaCola'\n",
    "# A quick way to format integers with commas every 3 digits\n",
    "def int_format(n): return \"{:,}\".format(n)\n",
    "print(\"Pepsi likes:\", int_format(g.get_object(pepsi_id)['likes']))\n",
    "print(\"Coke likes:\", int_format(g.get_object(coke_id)['likes']))"
   ]
  },
  {
   "cell_type": "code",
   "execution_count": null,
   "id": "1602a266",
   "metadata": {},
   "outputs": [],
   "source": []
  },
  {
   "cell_type": "code",
   "execution_count": 28,
   "id": "5cae5de2",
   "metadata": {},
   "outputs": [],
   "source": [
    "#Example 2-1. Making Graph API requests over HTTP\n",
    "import requests # pip install requests\n",
    "import json\n",
    "base_url = 'https://graph.facebook.com/me'# This is the base URL\n",
    "# Get 10 likes for 10 friends"
   ]
  },
  {
   "cell_type": "code",
   "execution_count": null,
   "id": "59538c2b",
   "metadata": {},
   "outputs": [],
   "source": [
    "url=\"https://graph.facebook.com/v14.0/me?fields=id%2Cname%2Cemail%2Cposts%2Cevents&access_token=EAAORCP4szTABAIhT5Yg2H00TotPR8dIAFhjpFlQkkQAPnTQUmIujY5VcUVPzUgltb5aNU42iLZBypZCZBKPpzZAe579Edc9dX5CKmvjo2XeSvVITx2g9pvtR9YOb0fZAqAXS7aB5gljMJSePEiBR0s8wKwpXEVGvOzyk1lxOZBbWCBPXfFbbZASl1xXdvDk7IgIkdItE9g2Djuck3wVqrXVdbtRbta0P1sZD\""
   ]
  },
  {
   "cell_type": "code",
   "execution_count": 183,
   "id": "40d29fde",
   "metadata": {},
   "outputs": [
    {
     "name": "stdout",
     "output_type": "stream",
     "text": [
      "https://graph.facebook.com/v14.0/me?fields=id%2Cname%2Clikes&access_token=EAAORCP4szTABANPNahLnTav3aW1602AdBGuEA5xzeTOEMnU19DmD9jhgrYJD7czHG1iva5jZBgVAG54HaF2mFBpT2IzLO8JttGYq9k1r6eZBv6S2KlnGtfZBeNt8spvdDq7oVgzmRU7rAZAMUc0MF5tcYwWmXsPbEeilsn7dHJXxx05eOQGaN82BLPYkf2uKZBSJtZBpqjncwndm8IhgyyemLpexXKuwUZD\n",
      "{\n",
      " \"id\": \"3207364749538261\",\n",
      " \"name\": \"Bhakthi Gowda\"\n",
      "}\n"
     ]
    }
   ],
   "source": [
    "url= \"https://graph.facebook.com/v14.0/me?fields=id%2Cname%2Clikes&access_token=EAAORCP4szTABANPNahLnTav3aW1602AdBGuEA5xzeTOEMnU19DmD9jhgrYJD7czHG1iva5jZBgVAG54HaF2mFBpT2IzLO8JttGYq9k1r6eZBv6S2KlnGtfZBeNt8spvdDq7oVgzmRU7rAZAMUc0MF5tcYwWmXsPbEeilsn7dHJXxx05eOQGaN82BLPYkf2uKZBSJtZBpqjncwndm8IhgyyemLpexXKuwUZD\"# with a command line utlity like curl, or using just about\n",
    "# any programming language by making a request to the URL.\n",
    "# Click the hyperlink that appears in your notebook output\n",
    "# when you execute this code cell to see for yourself...\n",
    "print(url)\n",
    "# Interpret the response as JSON and convert back\n",
    "# to Python data structures\n",
    "content = requests.get(url).json()\n",
    "# Pretty-print the JSON and display it\n",
    "print(json.dumps(content, indent=1))"
   ]
  },
  {
   "cell_type": "code",
   "execution_count": 184,
   "id": "2702195f",
   "metadata": {},
   "outputs": [
    {
     "name": "stdout",
     "output_type": "stream",
     "text": [
      "{\n",
      " \"metadata\": {\n",
      "  \"fields\": [\n",
      "   {\n",
      "    \"name\": \"id\",\n",
      "    \"description\": \"The URL being queried\",\n",
      "    \"type\": \"string\"\n",
      "   },\n",
      "   {\n",
      "    \"name\": \"development_instant_article\",\n",
      "    \"description\": \"Instant Article object for the URL, in development mode\",\n",
      "    \"type\": \"instantarticle\"\n",
      "   },\n",
      "   {\n",
      "    \"name\": \"engagement\",\n",
      "    \"description\": \"The engagement counts associated with the URL\",\n",
      "    \"type\": \"urlengagementdata\"\n",
      "   },\n",
      "   {\n",
      "    \"name\": \"instant_article\",\n",
      "    \"description\": \"Instant Article object for the URL\",\n",
      "    \"type\": \"instantarticle\"\n",
      "   },\n",
      "   {\n",
      "    \"name\": \"og_object\",\n",
      "    \"description\": \"Open Graph Object for the URL\",\n",
      "    \"type\": \"opengraphobject:generic\"\n",
      "   },\n",
      "   {\n",
      "    \"name\": \"ownership_permissions\",\n",
      "    \"description\": \"Permissions based on ownership of the URL\",\n",
      "    \"type\": \"urlownershippermissions\"\n",
      "   }\n",
      "  ],\n",
      "  \"type\": \"url\"\n",
      " },\n",
      " \"id\": \"https://id-id.facebook.com/498606660304862/photos/a.510563249109203/1348468785318641/\"\n",
      "}\n"
     ]
    }
   ],
   "source": [
    "# MTSW catalog link\n",
    "pp(g.get_object(\"https://id-id.facebook.com/498606660304862/photos/a.510563249109203/1348468785318641/?type=3&theater\",metadata=1))"
   ]
  },
  {
   "cell_type": "code",
   "execution_count": 174,
   "id": "030c0bf2",
   "metadata": {},
   "outputs": [
    {
     "name": "stdout",
     "output_type": "stream",
     "text": [
      "{\n",
      " \"metadata\": {\n",
      "  \"fields\": [\n",
      "   {\n",
      "    \"name\": \"id\",\n",
      "    \"description\": \"The URL being queried\",\n",
      "    \"type\": \"string\"\n",
      "   },\n",
      "   {\n",
      "    \"name\": \"development_instant_article\",\n",
      "    \"description\": \"Instant Article object for the URL, in development mode\",\n",
      "    \"type\": \"instantarticle\"\n",
      "   },\n",
      "   {\n",
      "    \"name\": \"engagement\",\n",
      "    \"description\": \"The engagement counts associated with the URL\",\n",
      "    \"type\": \"urlengagementdata\"\n",
      "   },\n",
      "   {\n",
      "    \"name\": \"instant_article\",\n",
      "    \"description\": \"Instant Article object for the URL\",\n",
      "    \"type\": \"instantarticle\"\n",
      "   },\n",
      "   {\n",
      "    \"name\": \"og_object\",\n",
      "    \"description\": \"Open Graph Object for the URL\",\n",
      "    \"type\": \"opengraphobject:generic\"\n",
      "   },\n",
      "   {\n",
      "    \"name\": \"ownership_permissions\",\n",
      "    \"description\": \"Permissions based on ownership of the URL\",\n",
      "    \"type\": \"urlownershippermissions\"\n",
      "   }\n",
      "  ],\n",
      "  \"type\": \"url\"\n",
      " },\n",
      " \"id\": \"http://pages/w/343306413260.do\"\n",
      "}\n"
     ]
    }
   ],
   "source": [
    "# PCI catalog link\n",
    "pp(g.get_object('http://pages/w/343306413260.do',metadata=1))"
   ]
  },
  {
   "cell_type": "code",
   "execution_count": 166,
   "id": "6db0a379",
   "metadata": {},
   "outputs": [
    {
     "ename": "TypeError",
     "evalue": "object of type 'NoneType' has no len()",
     "output_type": "error",
     "traceback": [
      "\u001b[1;31m---------------------------------------------------------------------------\u001b[0m",
      "\u001b[1;31mTypeError\u001b[0m                                 Traceback (most recent call last)",
      "\u001b[1;32m<ipython-input-166-77ca6a68e854>\u001b[0m in \u001b[0;36m<module>\u001b[1;34m\u001b[0m\n\u001b[1;32m----> 1\u001b[1;33m \u001b[0mdf2\u001b[0m \u001b[1;33m=\u001b[0m \u001b[0mpd\u001b[0m\u001b[1;33m.\u001b[0m\u001b[0mDataFrame\u001b[0m\u001b[1;33m.\u001b[0m\u001b[0mfrom_dict\u001b[0m\u001b[1;33m(\u001b[0m\u001b[0mg1\u001b[0m\u001b[1;33m,\u001b[0m \u001b[0morient\u001b[0m\u001b[1;33m=\u001b[0m\u001b[1;34m\"index\"\u001b[0m\u001b[1;33m)\u001b[0m\u001b[1;33m\u001b[0m\u001b[1;33m\u001b[0m\u001b[0m\n\u001b[0m",
      "\u001b[1;32m~\\anaconda3\\lib\\site-packages\\pandas\\core\\frame.py\u001b[0m in \u001b[0;36mfrom_dict\u001b[1;34m(cls, data, orient, dtype, columns)\u001b[0m\n\u001b[0;32m   1359\u001b[0m         \u001b[0morient\u001b[0m \u001b[1;33m=\u001b[0m \u001b[0morient\u001b[0m\u001b[1;33m.\u001b[0m\u001b[0mlower\u001b[0m\u001b[1;33m(\u001b[0m\u001b[1;33m)\u001b[0m\u001b[1;33m\u001b[0m\u001b[1;33m\u001b[0m\u001b[0m\n\u001b[0;32m   1360\u001b[0m         \u001b[1;32mif\u001b[0m \u001b[0morient\u001b[0m \u001b[1;33m==\u001b[0m \u001b[1;34m\"index\"\u001b[0m\u001b[1;33m:\u001b[0m\u001b[1;33m\u001b[0m\u001b[1;33m\u001b[0m\u001b[0m\n\u001b[1;32m-> 1361\u001b[1;33m             \u001b[1;32mif\u001b[0m \u001b[0mlen\u001b[0m\u001b[1;33m(\u001b[0m\u001b[0mdata\u001b[0m\u001b[1;33m)\u001b[0m \u001b[1;33m>\u001b[0m \u001b[1;36m0\u001b[0m\u001b[1;33m:\u001b[0m\u001b[1;33m\u001b[0m\u001b[1;33m\u001b[0m\u001b[0m\n\u001b[0m\u001b[0;32m   1362\u001b[0m                 \u001b[1;31m# TODO speed up Series case\u001b[0m\u001b[1;33m\u001b[0m\u001b[1;33m\u001b[0m\u001b[1;33m\u001b[0m\u001b[0m\n\u001b[0;32m   1363\u001b[0m                 \u001b[1;32mif\u001b[0m \u001b[0misinstance\u001b[0m\u001b[1;33m(\u001b[0m\u001b[0mlist\u001b[0m\u001b[1;33m(\u001b[0m\u001b[0mdata\u001b[0m\u001b[1;33m.\u001b[0m\u001b[0mvalues\u001b[0m\u001b[1;33m(\u001b[0m\u001b[1;33m)\u001b[0m\u001b[1;33m)\u001b[0m\u001b[1;33m[\u001b[0m\u001b[1;36m0\u001b[0m\u001b[1;33m]\u001b[0m\u001b[1;33m,\u001b[0m \u001b[1;33m(\u001b[0m\u001b[0mSeries\u001b[0m\u001b[1;33m,\u001b[0m \u001b[0mdict\u001b[0m\u001b[1;33m)\u001b[0m\u001b[1;33m)\u001b[0m\u001b[1;33m:\u001b[0m\u001b[1;33m\u001b[0m\u001b[1;33m\u001b[0m\u001b[0m\n",
      "\u001b[1;31mTypeError\u001b[0m: object of type 'NoneType' has no len()"
     ]
    }
   ],
   "source": [
    "df2 = pd.DataFrame.from_dict(g1, orient=\"index\")"
   ]
  },
  {
   "cell_type": "code",
   "execution_count": 145,
   "id": "eebbaaa5",
   "metadata": {},
   "outputs": [
    {
     "ename": "GraphAPIError",
     "evalue": "(#10) This endpoint requires the 'pages_read_engagement' permission or the 'Page Public Content Access' feature or the 'Page Public Metadata Access' feature. Refer to https://developers.facebook.com/docs/apps/review/login-permissions#manage-pages, https://developers.facebook.com/docs/apps/review/feature#reference-PAGES_ACCESS and https://developers.facebook.com/docs/apps/review/feature#page-public-metadata-access for details.",
     "output_type": "error",
     "traceback": [
      "\u001b[1;31m---------------------------------------------------------------------------\u001b[0m",
      "\u001b[1;31mGraphAPIError\u001b[0m                             Traceback (most recent call last)",
      "\u001b[1;32m<ipython-input-145-d8eb3cd40c96>\u001b[0m in \u001b[0;36m<module>\u001b[1;34m\u001b[0m\n\u001b[1;32m----> 1\u001b[1;33m \u001b[0mg\u001b[0m\u001b[1;33m.\u001b[0m\u001b[0mget_objects\u001b[0m\u001b[1;33m(\u001b[0m\u001b[1;33m[\u001b[0m\u001b[1;34m\"56381779049\"\u001b[0m\u001b[1;33m]\u001b[0m\u001b[1;33m,\u001b[0m \u001b[0mmetadata\u001b[0m\u001b[1;33m=\u001b[0m\u001b[1;36m1\u001b[0m\u001b[1;33m)\u001b[0m\u001b[1;33m\u001b[0m\u001b[1;33m\u001b[0m\u001b[0m\n\u001b[0m",
      "\u001b[1;32m~\\anaconda3\\lib\\site-packages\\facebook\\__init__.py\u001b[0m in \u001b[0;36mget_objects\u001b[1;34m(self, ids, **args)\u001b[0m\n\u001b[0;32m    133\u001b[0m         \"\"\"\n\u001b[0;32m    134\u001b[0m         \u001b[0margs\u001b[0m\u001b[1;33m[\u001b[0m\u001b[1;34m\"ids\"\u001b[0m\u001b[1;33m]\u001b[0m \u001b[1;33m=\u001b[0m \u001b[1;34m\",\"\u001b[0m\u001b[1;33m.\u001b[0m\u001b[0mjoin\u001b[0m\u001b[1;33m(\u001b[0m\u001b[0mids\u001b[0m\u001b[1;33m)\u001b[0m\u001b[1;33m\u001b[0m\u001b[1;33m\u001b[0m\u001b[0m\n\u001b[1;32m--> 135\u001b[1;33m         \u001b[1;32mreturn\u001b[0m \u001b[0mself\u001b[0m\u001b[1;33m.\u001b[0m\u001b[0mrequest\u001b[0m\u001b[1;33m(\u001b[0m\u001b[0mself\u001b[0m\u001b[1;33m.\u001b[0m\u001b[0mversion\u001b[0m \u001b[1;33m+\u001b[0m \u001b[1;34m\"/\"\u001b[0m\u001b[1;33m,\u001b[0m \u001b[0margs\u001b[0m\u001b[1;33m)\u001b[0m\u001b[1;33m\u001b[0m\u001b[1;33m\u001b[0m\u001b[0m\n\u001b[0m\u001b[0;32m    136\u001b[0m \u001b[1;33m\u001b[0m\u001b[0m\n\u001b[0;32m    137\u001b[0m     \u001b[1;32mdef\u001b[0m \u001b[0msearch\u001b[0m\u001b[1;33m(\u001b[0m\u001b[0mself\u001b[0m\u001b[1;33m,\u001b[0m \u001b[0mtype\u001b[0m\u001b[1;33m,\u001b[0m \u001b[1;33m**\u001b[0m\u001b[0margs\u001b[0m\u001b[1;33m)\u001b[0m\u001b[1;33m:\u001b[0m\u001b[1;33m\u001b[0m\u001b[1;33m\u001b[0m\u001b[0m\n",
      "\u001b[1;32m~\\anaconda3\\lib\\site-packages\\facebook\\__init__.py\u001b[0m in \u001b[0;36mrequest\u001b[1;34m(self, path, args, post_args, files, method)\u001b[0m\n\u001b[0;32m    311\u001b[0m \u001b[1;33m\u001b[0m\u001b[0m\n\u001b[0;32m    312\u001b[0m         \u001b[1;32mif\u001b[0m \u001b[0mresult\u001b[0m \u001b[1;32mand\u001b[0m \u001b[0misinstance\u001b[0m\u001b[1;33m(\u001b[0m\u001b[0mresult\u001b[0m\u001b[1;33m,\u001b[0m \u001b[0mdict\u001b[0m\u001b[1;33m)\u001b[0m \u001b[1;32mand\u001b[0m \u001b[0mresult\u001b[0m\u001b[1;33m.\u001b[0m\u001b[0mget\u001b[0m\u001b[1;33m(\u001b[0m\u001b[1;34m\"error\"\u001b[0m\u001b[1;33m)\u001b[0m\u001b[1;33m:\u001b[0m\u001b[1;33m\u001b[0m\u001b[1;33m\u001b[0m\u001b[0m\n\u001b[1;32m--> 313\u001b[1;33m             \u001b[1;32mraise\u001b[0m \u001b[0mGraphAPIError\u001b[0m\u001b[1;33m(\u001b[0m\u001b[0mresult\u001b[0m\u001b[1;33m)\u001b[0m\u001b[1;33m\u001b[0m\u001b[1;33m\u001b[0m\u001b[0m\n\u001b[0m\u001b[0;32m    314\u001b[0m         \u001b[1;32mreturn\u001b[0m \u001b[0mresult\u001b[0m\u001b[1;33m\u001b[0m\u001b[1;33m\u001b[0m\u001b[0m\n\u001b[0;32m    315\u001b[0m \u001b[1;33m\u001b[0m\u001b[0m\n",
      "\u001b[1;31mGraphAPIError\u001b[0m: (#10) This endpoint requires the 'pages_read_engagement' permission or the 'Page Public Content Access' feature or the 'Page Public Metadata Access' feature. Refer to https://developers.facebook.com/docs/apps/review/login-permissions#manage-pages, https://developers.facebook.com/docs/apps/review/feature#reference-PAGES_ACCESS and https://developers.facebook.com/docs/apps/review/feature#page-public-metadata-access for details."
     ]
    }
   ],
   "source": [
    "g.get_objects([\"56381779049\"], metadata=1)"
   ]
  },
  {
   "cell_type": "code",
   "execution_count": 78,
   "id": "6747e11b",
   "metadata": {},
   "outputs": [
    {
     "ename": "SyntaxError",
     "evalue": "invalid syntax (<ipython-input-78-a50bed96d27b>, line 4)",
     "output_type": "error",
     "traceback": [
      "\u001b[1;36m  File \u001b[1;32m\"<ipython-input-78-a50bed96d27b>\"\u001b[1;36m, line \u001b[1;32m4\u001b[0m\n\u001b[1;33m    for friend in likes:\u001b[0m\n\u001b[1;37m                       ^\u001b[0m\n\u001b[1;31mSyntaxError\u001b[0m\u001b[1;31m:\u001b[0m invalid syntax\n"
     ]
    }
   ],
   "source": [
    "from prettytable import PrettyTable\n",
    "from collections import Counter\n",
    "friends_likes = Counter([like['name']\n",
    "for friend in likes:\n",
    "    for like in likes[friend]:\n",
    "        if like.get('name')])\n",
    "        pt = PrettyTable(field_names=['Name', 'Freq']) pt.align['Name'], pt.align['Freq'] = 'l', 'r' [ pt.add_row(fl) for fl in friends_likes.most_common(10) ]\n",
    "print('Top 10 likes amongst friends')\n",
    "print(pt)"
   ]
  },
  {
   "cell_type": "code",
   "execution_count": null,
   "id": "a027167b",
   "metadata": {},
   "outputs": [],
   "source": []
  },
  {
   "cell_type": "code",
   "execution_count": null,
   "id": "a1268b7c",
   "metadata": {},
   "outputs": [],
   "source": []
  },
  {
   "cell_type": "code",
   "execution_count": null,
   "id": "663d1ecf",
   "metadata": {},
   "outputs": [],
   "source": []
  },
  {
   "cell_type": "code",
   "execution_count": null,
   "id": "63d28854",
   "metadata": {},
   "outputs": [],
   "source": []
  },
  {
   "cell_type": "code",
   "execution_count": 119,
   "id": "3fe0c7db",
   "metadata": {},
   "outputs": [],
   "source": [
    "token='EAAORCP4szTABADdnWZAbl7qShizU9oZB6hLPD1KzBnpqiYCsH5GcBXTTIQedmcy1EMLZCXkZCa1rntnrTpVeEK5KG5ZCJxqOoZA7GNOyEFjnZBp0OM5EukEMQNQPTNl4OWgf6oWDZCvnzZAE80nucfGViFybexkyUMyZCxkehfATjAxjKvamofbbGBgZAjBkX2lYoq7gANahCmHeoLWjYPR7M0QQ9e4eA01Yp4ZD'"
   ]
  },
  {
   "cell_type": "code",
   "execution_count": 120,
   "id": "6c316a8c",
   "metadata": {},
   "outputs": [],
   "source": [
    "import facebook\n",
    "\n",
    "graph = facebook.GraphAPI(access_token=token, version=\"2.12\")"
   ]
  },
  {
   "cell_type": "code",
   "execution_count": 121,
   "id": "dc9ce74f",
   "metadata": {},
   "outputs": [],
   "source": [
    "friends = graph.get_connections(id='me', connection_name='friends')\n"
   ]
  },
  {
   "cell_type": "code",
   "execution_count": 122,
   "id": "5beecde1",
   "metadata": {},
   "outputs": [
    {
     "data": {
      "text/plain": [
       "{'data': []}"
      ]
     },
     "execution_count": 122,
     "metadata": {},
     "output_type": "execute_result"
    }
   ],
   "source": [
    "friends"
   ]
  },
  {
   "cell_type": "code",
   "execution_count": null,
   "id": "72f9553d",
   "metadata": {},
   "outputs": [],
   "source": []
  },
  {
   "cell_type": "code",
   "execution_count": null,
   "id": "99b9f428",
   "metadata": {},
   "outputs": [],
   "source": []
  },
  {
   "cell_type": "code",
   "execution_count": null,
   "id": "6f60ae65",
   "metadata": {},
   "outputs": [],
   "source": []
  },
  {
   "cell_type": "code",
   "execution_count": 2,
   "id": "5aa9a60f",
   "metadata": {},
   "outputs": [
    {
     "name": "stdout",
     "output_type": "stream",
     "text": [
      "Collecting pyautogui\n",
      "  Downloading PyAutoGUI-0.9.53.tar.gz (59 kB)\n",
      "     ---------------------------------------- 59.0/59.0 kB 3.3 MB/s eta 0:00:00\n",
      "  Preparing metadata (setup.py): started\n",
      "  Preparing metadata (setup.py): finished with status 'done'\n",
      "Collecting pymsgbox\n",
      "  Downloading PyMsgBox-1.0.9.tar.gz (18 kB)\n",
      "  Installing build dependencies: started\n",
      "Note: you may need to restart the kernel to use updated packages.\n",
      "  Installing build dependencies: finished with status 'done'\n",
      "  Getting requirements to build wheel: started\n",
      "  Getting requirements to build wheel: finished with status 'done'\n",
      "  Preparing metadata (pyproject.toml): started\n",
      "  Preparing metadata (pyproject.toml): finished with status 'done'\n",
      "Collecting PyTweening>=1.0.1\n",
      "  Downloading pytweening-1.0.4.tar.gz (14 kB)\n",
      "  Preparing metadata (setup.py): started\n",
      "  Preparing metadata (setup.py): finished with status 'done'\n",
      "Collecting pyscreeze>=0.1.21\n",
      "  Downloading PyScreeze-0.1.28.tar.gz (25 kB)\n",
      "  Installing build dependencies: started\n",
      "  Installing build dependencies: finished with status 'done'\n",
      "  Getting requirements to build wheel: started\n",
      "  Getting requirements to build wheel: finished with status 'done'\n",
      "  Preparing metadata (pyproject.toml): started\n",
      "  Preparing metadata (pyproject.toml): finished with status 'done'\n",
      "Collecting pygetwindow>=0.0.5\n",
      "  Downloading PyGetWindow-0.0.9.tar.gz (9.7 kB)\n",
      "  Preparing metadata (setup.py): started\n",
      "  Preparing metadata (setup.py): finished with status 'done'\n",
      "Collecting mouseinfo\n",
      "  Downloading MouseInfo-0.1.3.tar.gz (10 kB)\n",
      "  Preparing metadata (setup.py): started\n",
      "  Preparing metadata (setup.py): finished with status 'done'\n",
      "Collecting pyrect\n",
      "  Downloading PyRect-0.2.0.tar.gz (17 kB)\n",
      "  Preparing metadata (setup.py): started\n",
      "  Preparing metadata (setup.py): finished with status 'done'\n",
      "Requirement already satisfied: Pillow>=6.2.1 in c:\\users\\admin\\anaconda3\\lib\\site-packages (from pyscreeze>=0.1.21->pyautogui) (8.2.0)\n",
      "Collecting pyperclip\n",
      "  Downloading pyperclip-1.8.2.tar.gz (20 kB)\n",
      "  Preparing metadata (setup.py): started\n",
      "  Preparing metadata (setup.py): finished with status 'done'\n",
      "Building wheels for collected packages: pyautogui, pygetwindow, pyscreeze, PyTweening, mouseinfo, pymsgbox, pyperclip, pyrect\n",
      "  Building wheel for pyautogui (setup.py): started\n",
      "  Building wheel for pyautogui (setup.py): finished with status 'done'\n",
      "  Created wheel for pyautogui: filename=PyAutoGUI-0.9.53-py3-none-any.whl size=36598 sha256=d591ca8a9fa1812490cd034dd591bcd0316fab3b3ebf82de2f4a7ef0859cea4e\n",
      "  Stored in directory: c:\\users\\admin\\appdata\\local\\pip\\cache\\wheels\\54\\04\\f7\\55704a9d374ed923785a4fdc0ef00151fa25306b3b93345532\n",
      "  Building wheel for pygetwindow (setup.py): started\n",
      "  Building wheel for pygetwindow (setup.py): finished with status 'done'\n",
      "  Created wheel for pygetwindow: filename=PyGetWindow-0.0.9-py3-none-any.whl size=11063 sha256=022bef5091278fde817e8d43c674e06fcf75193ef649d5fe616cb56a5201212b\n",
      "  Stored in directory: c:\\users\\admin\\appdata\\local\\pip\\cache\\wheels\\91\\e3\\04\\184bda98ec7f7d5f0ba1f372bcf7b3ba86325151ae1dd690fe\n",
      "  Building wheel for pyscreeze (pyproject.toml): started\n",
      "  Building wheel for pyscreeze (pyproject.toml): finished with status 'done'\n",
      "  Created wheel for pyscreeze: filename=PyScreeze-0.1.28-py3-none-any.whl size=13009 sha256=a5ca568e2fc4d1143566aed9eb4da7b7cedaa27ec52868a9786a215a28f55650\n",
      "  Stored in directory: c:\\users\\admin\\appdata\\local\\pip\\cache\\wheels\\b1\\b0\\5c\\9fb5beb2d6c708479a670e92f4ab3b54523a15c9cd4a46e24e\n",
      "  Building wheel for PyTweening (setup.py): started\n",
      "  Building wheel for PyTweening (setup.py): finished with status 'done'\n",
      "  Created wheel for PyTweening: filename=pytweening-1.0.4-py3-none-any.whl size=5838 sha256=1b7073c6d2640570581ad2ab01ae5039fc7a1074b81f0e6fd5b580e882525d78\n",
      "  Stored in directory: c:\\users\\admin\\appdata\\local\\pip\\cache\\wheels\\a2\\1b\\69\\dc477653ccc19228bf53af76c623e4e82e5dc1b6f78d5c4d35\n",
      "  Building wheel for mouseinfo (setup.py): started\n",
      "  Building wheel for mouseinfo (setup.py): finished with status 'done'\n",
      "  Created wheel for mouseinfo: filename=MouseInfo-0.1.3-py3-none-any.whl size=10891 sha256=b9dba42e8c52bed89a0eb2da2caffa156aceff167d165a74fff0a2c5fa1a6549\n",
      "  Stored in directory: c:\\users\\admin\\appdata\\local\\pip\\cache\\wheels\\d1\\72\\fb\\35f403de66285df8ecca7049bcc61bfb57aba0f76d1f08f7eb\n",
      "  Building wheel for pymsgbox (pyproject.toml): started\n",
      "  Building wheel for pymsgbox (pyproject.toml): finished with status 'done'\n",
      "  Created wheel for pymsgbox: filename=PyMsgBox-1.0.9-py3-none-any.whl size=7406 sha256=3f12ffde86d741cf48a01d38840468fb75bb3f419ec04c5339ec12f1727a2f06\n",
      "  Stored in directory: c:\\users\\admin\\appdata\\local\\pip\\cache\\wheels\\91\\28\\0d\\f4eb606d38276836237d6dc2abf094241e6db5682a126e0389\n",
      "  Building wheel for pyperclip (setup.py): started\n",
      "  Building wheel for pyperclip (setup.py): finished with status 'done'\n",
      "  Created wheel for pyperclip: filename=pyperclip-1.8.2-py3-none-any.whl size=11123 sha256=b1f92d7d8c65f3befc95ede3653d8a69eddd082985232a59c764e0af16dce5f8\n",
      "  Stored in directory: c:\\users\\admin\\appdata\\local\\pip\\cache\\wheels\\7f\\1a\\65\\84ff8c386bec21fca6d220ea1f5498a0367883a78dd5ba6122\n",
      "  Building wheel for pyrect (setup.py): started\n",
      "  Building wheel for pyrect (setup.py): finished with status 'done'\n",
      "  Created wheel for pyrect: filename=PyRect-0.2.0-py2.py3-none-any.whl size=11180 sha256=61089faece9f839e7f602e24ab5cae9a2151f2e0ac8314e9e50d68bd0f3efbf4\n",
      "  Stored in directory: c:\\users\\admin\\appdata\\local\\pip\\cache\\wheels\\1b\\c1\\cc\\3d6515746ab138a303b6b5d38181399703488f8109b734e768\n",
      "Successfully built pyautogui pygetwindow pyscreeze PyTweening mouseinfo pymsgbox pyperclip pyrect\n",
      "Installing collected packages: PyTweening, pyrect, pyperclip, pymsgbox, pyscreeze, pygetwindow, mouseinfo, pyautogui\n",
      "Successfully installed PyTweening-1.0.4 mouseinfo-0.1.3 pyautogui-0.9.53 pygetwindow-0.0.9 pymsgbox-1.0.9 pyperclip-1.8.2 pyrect-0.2.0 pyscreeze-0.1.28\n"
     ]
    }
   ],
   "source": [
    "pip install pyautogui"
   ]
  },
  {
   "cell_type": "code",
   "execution_count": 3,
   "id": "109a2c8e",
   "metadata": {},
   "outputs": [
    {
     "name": "stderr",
     "output_type": "stream",
     "text": [
      "[WDM] - Current google-chrome version is 103.0.5060\n",
      "[WDM] - Get LATEST driver version for 103.0.5060\n",
      "[WDM] - There is no [win32] chromedriver for browser 103.0.5060 in cache\n",
      "[WDM] - Get LATEST driver version for 103.0.5060\n",
      "[WDM] - Trying to download new driver from http://chromedriver.storage.googleapis.com/103.0.5060.134/chromedriver_win32.zip\n"
     ]
    },
    {
     "name": "stdout",
     "output_type": "stream",
     "text": [
      " \n"
     ]
    },
    {
     "name": "stderr",
     "output_type": "stream",
     "text": [
      "[WDM] - Driver has been saved in cache [C:\\Users\\ADMIN\\.wdm\\drivers\\chromedriver\\win32\\103.0.5060.134]\n"
     ]
    }
   ],
   "source": [
    "import sys\n",
    "import selenium\n",
    "import pyautogui\n",
    "from selenium import webdriver\n",
    "from selenium.webdriver.common.by import By\n",
    "from selenium.webdriver.support.ui import Select,WebDriverWait\n",
    "from selenium.webdriver.support import expected_conditions as EC\n",
    "from selenium.webdriver.common.keys import Keys\n",
    "from selenium.webdriver.chrome.options import Options\n",
    "from webdriver_manager.chrome import ChromeDriverManager\n",
    "from selenium.webdriver import ActionChains\n",
    "from selenium.webdriver.common.keys import Keys\n",
    "import pandas as pd\n",
    "import numpy as np\n",
    "import datetime\n",
    "import json\n",
    "from datetime import timedelta\n",
    "import time\n",
    "import os\n",
    "from dateutil.tz import gettz\n",
    "import warnings\n",
    "warnings.filterwarnings(\"ignore\")\n",
    "import requests\n",
    "from difflib import SequenceMatcher\n",
    "from selenium.common.exceptions import NoAlertPresentException\n",
    "import re\n",
    "import string\n",
    "option = Options()\n",
    "path=ChromeDriverManager().install()\n",
    "option.add_argument(\"--disable-infobars\")\n",
    "option.add_argument(\"start-maximized\")\n",
    "# option.add_argument(\"--incognito\")\n",
    "# option.add_argument(\"--headless\")\n",
    "option.add_argument(\"--window-size=1920,1080\")\n",
    "#option.add_argument(\"--window-size=1382,754\")\n",
    "# Pass the argument 1 to allow and 2 to block\n",
    "option.add_experimental_option(\"prefs\", { \n",
    "    \"profile.default_content_setting_values.notifications\": 2\n",
    "})"
   ]
  },
  {
   "cell_type": "code",
   "execution_count": 7,
   "id": "0a25042f",
   "metadata": {},
   "outputs": [],
   "source": [
    "insta_url=\"https://www.instagram.com/accounts/login/\""
   ]
  },
  {
   "cell_type": "code",
   "execution_count": null,
   "id": "286f45e4",
   "metadata": {},
   "outputs": [],
   "source": [
    "driver = webdriver.Chrome(options=option, executable_path=path)\n",
    "#     driver.maximize_window()\n",
    "time.sleep(2)\n",
    "\n",
    "driver.delete_all_cookies()\n",
    "\n",
    "time.sleep(3)\n",
    "driver.get(insta_url)\n",
    "\n",
    "time.sleep(2)\n",
    "element_username=driver.find_element(By.NAME,\"bhakthipoorna@gamil.com\")\n",
    "element_password=driver.find_element(By.NAME,\"20180451678\")\n",
    "element_login_button=driver.find_element(By.XPATH,\"//div[text()='Log In']\")\n",
    "\n",
    "time.sleep(2)\n",
    "element_username.send_keys(username)\n",
    "time.sleep(1)\n",
    "element_password.send_keys(password)\n",
    "time.sleep(1)\n",
    "element_login_button.click()"
   ]
  },
  {
   "cell_type": "code",
   "execution_count": null,
   "id": "d7206d26",
   "metadata": {},
   "outputs": [],
   "source": []
  },
  {
   "cell_type": "code",
   "execution_count": null,
   "id": "459f33f1",
   "metadata": {},
   "outputs": [],
   "source": []
  },
  {
   "cell_type": "code",
   "execution_count": null,
   "id": "151c0aa3",
   "metadata": {},
   "outputs": [],
   "source": []
  },
  {
   "cell_type": "code",
   "execution_count": 8,
   "id": "210c646c",
   "metadata": {},
   "outputs": [],
   "source": [
    "def instagram_post_like_comments():\n",
    "    \n",
    "    df1 = pd.DataFrame()\n",
    "    \n",
    "    driver = webdriver.Chrome(options=option, executable_path=path)\n",
    "#     driver.maximize_window()\n",
    "    time.sleep(2)\n",
    "    \n",
    "    driver.delete_all_cookies()\n",
    "    \n",
    "    time.sleep(3)\n",
    "    driver.get(insta_url)\n",
    "    \n",
    "    time.sleep(2)\n",
    "    element_username=driver.find_element(By.NAME,\"bhakthipoorna@gamil.com\")\n",
    "    element_password=driver.find_element(By.NAME,\"20180451678\")\n",
    "    element_login_button=driver.find_element(By.XPATH,\"//div[text()='Log In']\")\n",
    "\n",
    "    time.sleep(2)\n",
    "    element_username.send_keys(username)\n",
    "    time.sleep(1)\n",
    "    element_password.send_keys(password)\n",
    "    time.sleep(1)\n",
    "    element_login_button.click()\n",
    "    \n",
    "    time.sleep(3)\n",
    "    try:\n",
    "        driver.find_element(By.CLASS_NAME,\"cmbtv\").click()\n",
    "    except:\n",
    "        pass\n",
    "\n",
    "    time.sleep(5)\n",
    "    try:\n",
    "        driver.get(\"https://www.instagram.com/madrastalkies/\")\n",
    "    except:\n",
    "        pass\n",
    "    time.sleep(5)\n",
    "    for ii in range(10):\n",
    "        time.sleep(2)\n",
    "        print(ii)\n",
    "    try:\n",
    "        name_of_the_page=driver.find_element(By.XPATH,\"//div[@class='_aa_m']//h2\").text\n",
    "        print(\"Name of the Page :\",name_of_the_page)\n",
    "    except:\n",
    "        pass\n",
    "\n",
    "    time.sleep(5)\n",
    "    try:\n",
    "        get_image_url=driver.find_elements(By.XPATH,\"//article[@class='_aayp']//a\")\n",
    "        len_images=len(get_image_url)\n",
    "        print(\"len_images---------->\",len_images)\n",
    "    except:\n",
    "        pass\n",
    "    \n",
    "    a = ActionChains(driver)\n",
    "    \n",
    "    d={}\n",
    "    \n",
    "    time.sleep(2)\n",
    "    for lo in range(1,len_images+1):\n",
    "        time.sleep(3)\n",
    "        print(lo)\n",
    "        try:\n",
    "            m=driver.find_element(By.XPATH,f\"(//article[@class='_aayp']//a){[lo]}\")\n",
    "            a.move_to_element(m).perform()\n",
    "        except:\n",
    "            pass\n",
    "        time.sleep(3)\n",
    "        try:\n",
    "            img=driver.find_element(By.XPATH,f\"(//article[@class='_aayp']//a){[lo]}\").get_attribute('href')\n",
    "            print(img)\n",
    "            total_likes=driver.find_element(By.XPATH,\"(//div[@class='_aacl _aacp _aacw _aad3 _aad6 _aade'])[1]\").text\n",
    "            print(total_likes)\n",
    "            total_comments=driver.find_element(By.XPATH,\"(//div[@class='_aacl _aacp _aacw _aad3 _aad6 _aade'])[2]\").text\n",
    "            print(total_comments)\n",
    "            print(\"=====================================\")\n",
    "        except:\n",
    "            pass\n",
    "                \n",
    "        try:\n",
    "            df=pd.DataFrame({'Name of the Page':name_of_the_page,'Image_Url':img,'Total Likes':total_likes,'Total Comments':total_comments},index=[0])\n",
    "            print(df)\n",
    "        except:\n",
    "            pass\n",
    "        \n",
    "#         df1 = pd.concat([df1,df])\n",
    "        \n",
    "        try:\n",
    "            for iter_img,iter_comments_counts in zip(df['Image_Url'],df['Total Comments']):\n",
    "                print(iter_img,iter_comments_counts)\n",
    "                d[iter_img]=iter_comments_counts\n",
    "        except:\n",
    "            pass\n",
    "\n",
    "    print(\"d==============***********==================>\",d)\n",
    "\n",
    "    for url_image1,counting in d.items():\n",
    "        print(url_image1,int(counting)//4)\n",
    "        try:\n",
    "            driver.get(url_image1)\n",
    "        except:\n",
    "            pass\n",
    "\n",
    "        time.sleep(2)\n",
    "        try:\n",
    "            name_of_the_page=driver.find_element(By.XPATH,\"//div[@class='_aaqt']//a\").text\n",
    "        except:\n",
    "            pass\n",
    "\n",
    "        try:\n",
    "            date_of_post=driver.find_element(By.XPATH,\"//time[@class='_aaqe']\").get_attribute(\"datetime\")\n",
    "            time_of_post=driver.find_element(By.XPATH,\"//time[@class='_aaqe']\").text\n",
    "#             print(date_of_post,\"---------->\",time_of_post)\n",
    "        except:\n",
    "            pass\n",
    "        try:\n",
    "            get_views_or_likes=driver.find_element(By.XPATH,\"//section[@class='_aam_ _aat4']\").text\n",
    "        except:\n",
    "            pass\n",
    "\n",
    "        time.sleep(3)\n",
    "        for loo in range(1,int(counting)//4):\n",
    "            if(loo>0):\n",
    "                try:\n",
    "                    time.sleep(3)\n",
    "                    print(\"loo--->\",loo)\n",
    "                    clicking_plus_button=driver.find_elements(By.XPATH,\"//*/div/div[1]/div/div[1]/div/div/div[1]/div[1]/section/main/div[1]/div[1]/article/div/div[2]/div/div[2]/div[1]/ul/li/div/button\")\n",
    "                    l=len(clicking_plus_button)\n",
    "                    print(\"L--------->\",l)\n",
    "                except:\n",
    "                    pass\n",
    "\n",
    "                if(l>0):\n",
    "                    try:\n",
    "                        time.sleep(2)\n",
    "                        click_plus_button=driver.find_element(By.XPATH,\"//*/div/div[1]/div/div[1]/div/div/div[1]/div[1]/section/main/div[1]/div[1]/article/div/div[2]/div/div[2]/div[1]/ul/li/div/button\")\n",
    "                        click_plus_button.click()\n",
    "                        print(\"Inside IF--------->\",l)\n",
    "                    except:\n",
    "                        pass\n",
    "\n",
    "        time.sleep(2)\n",
    "        try:\n",
    "            get_all_text=driver.find_elements(By.XPATH,\"//div[@class='_a9zm']//div[@class='_a9zr']\")\n",
    "        except:\n",
    "            pass\n",
    "\n",
    "        time.sleep(2)\n",
    "        for jk in range(1,len(get_all_text)+1):\n",
    "        #     print(i)\n",
    "            time.sleep(2)\n",
    "            try:\n",
    "                time.sleep(1)\n",
    "                get_peron_name=driver.find_element(By.XPATH,f\"(//div[@class='_aat6']//ul)[{jk}]//h3\").text\n",
    "        #         print(get_peron_name)\n",
    "            except:\n",
    "                pass\n",
    "\n",
    "            try:\n",
    "                time.sleep(1)\n",
    "                get_person_url=driver.find_element(By.XPATH,f\"(//div[@class='_aat6']//ul)[{jk}]//a\").get_attribute('href')\n",
    "        #         print(get_person_url)\n",
    "            except:\n",
    "                pass\n",
    "\n",
    "            try:\n",
    "                time.sleep(1)\n",
    "                get_person_message=driver.find_element(By.XPATH,f\"(//div[@class='_aat6']//ul)[{jk}]//span[@class='_aacl _aaco _aacu _aacx _aad7 _aade']\").text\n",
    "        #         print(get_person_message)\n",
    "            except:\n",
    "                pass\n",
    "            try:\n",
    "                print(get_peron_name,\"----->\",get_person_url,\"----------->\",get_person_message)\n",
    "            except:\n",
    "                pass\n",
    "\n",
    "            try:\n",
    "                df=pd.DataFrame({'Name of the Page':name_of_the_page,'Image_Url':url_image1,'Likes Counts':get_views_or_likes,'Comments Counts':counting,'Date of Post':date_of_post,'Time of Post':time_of_post,\"Likes or Views\":get_views_or_likes,\"Commented_Person_name\":get_peron_name,\"Person Url\":get_person_url,\"Comments\":get_person_message},index=[0])\n",
    "                df1 = pd.concat([df1,df])  \n",
    "                print(\"=====================\")\n",
    "                print(df)\n",
    "                print(\"====================\")\n",
    "            except:\n",
    "                pass\n",
    "        \n",
    "    driver.close()\n",
    "\n",
    "    return df1 "
   ]
  },
  {
   "cell_type": "code",
   "execution_count": 9,
   "id": "94940cfb",
   "metadata": {},
   "outputs": [
    {
     "ename": "NoSuchElementException",
     "evalue": "Message: no such element: Unable to locate element: {\"method\":\"css selector\",\"selector\":\"[name=\"bhakthipoorna@gamil.com\"]\"}\n  (Session info: chrome=103.0.5060.114)\nStacktrace:\nBacktrace:\n\tOrdinal0 [0x00655FD3+2187219]\n\tOrdinal0 [0x005EE6D1+1763025]\n\tOrdinal0 [0x00503E78+802424]\n\tOrdinal0 [0x00531C10+990224]\n\tOrdinal0 [0x00531EAB+990891]\n\tOrdinal0 [0x0055EC92+1174674]\n\tOrdinal0 [0x0054CBD4+1100756]\n\tOrdinal0 [0x0055CFC2+1167298]\n\tOrdinal0 [0x0054C9A6+1100198]\n\tOrdinal0 [0x00526F80+946048]\n\tOrdinal0 [0x00527E76+949878]\n\tGetHandleVerifier [0x008F90C2+2721218]\n\tGetHandleVerifier [0x008EAAF0+2662384]\n\tGetHandleVerifier [0x006E137A+526458]\n\tGetHandleVerifier [0x006E0416+522518]\n\tOrdinal0 [0x005F4EAB+1789611]\n\tOrdinal0 [0x005F97A8+1808296]\n\tOrdinal0 [0x005F9895+1808533]\n\tOrdinal0 [0x006026C1+1844929]\n\tBaseThreadInitThunk [0x763EFA29+25]\n\tRtlGetAppContainerNamedObjectPath [0x77C57A9E+286]\n\tRtlGetAppContainerNamedObjectPath [0x77C57A6E+238]\n",
     "output_type": "error",
     "traceback": [
      "\u001b[1;31m---------------------------------------------------------------------------\u001b[0m",
      "\u001b[1;31mNoSuchElementException\u001b[0m                    Traceback (most recent call last)",
      "\u001b[1;32m<ipython-input-9-1d24432b8fdc>\u001b[0m in \u001b[0;36m<module>\u001b[1;34m\u001b[0m\n\u001b[1;32m----> 1\u001b[1;33m \u001b[0mtraial_1\u001b[0m\u001b[1;33m=\u001b[0m\u001b[0minstagram_post_like_comments\u001b[0m\u001b[1;33m(\u001b[0m\u001b[1;33m)\u001b[0m\u001b[1;33m\u001b[0m\u001b[1;33m\u001b[0m\u001b[0m\n\u001b[0m",
      "\u001b[1;32m<ipython-input-8-13a09e2e43ea>\u001b[0m in \u001b[0;36minstagram_post_like_comments\u001b[1;34m()\u001b[0m\n\u001b[0;32m     13\u001b[0m \u001b[1;33m\u001b[0m\u001b[0m\n\u001b[0;32m     14\u001b[0m     \u001b[0mtime\u001b[0m\u001b[1;33m.\u001b[0m\u001b[0msleep\u001b[0m\u001b[1;33m(\u001b[0m\u001b[1;36m2\u001b[0m\u001b[1;33m)\u001b[0m\u001b[1;33m\u001b[0m\u001b[1;33m\u001b[0m\u001b[0m\n\u001b[1;32m---> 15\u001b[1;33m     \u001b[0melement_username\u001b[0m\u001b[1;33m=\u001b[0m\u001b[0mdriver\u001b[0m\u001b[1;33m.\u001b[0m\u001b[0mfind_element\u001b[0m\u001b[1;33m(\u001b[0m\u001b[0mBy\u001b[0m\u001b[1;33m.\u001b[0m\u001b[0mNAME\u001b[0m\u001b[1;33m,\u001b[0m\u001b[1;34m\"bhakthipoorna@gamil.com\"\u001b[0m\u001b[1;33m)\u001b[0m\u001b[1;33m\u001b[0m\u001b[1;33m\u001b[0m\u001b[0m\n\u001b[0m\u001b[0;32m     16\u001b[0m     \u001b[0melement_password\u001b[0m\u001b[1;33m=\u001b[0m\u001b[0mdriver\u001b[0m\u001b[1;33m.\u001b[0m\u001b[0mfind_element\u001b[0m\u001b[1;33m(\u001b[0m\u001b[0mBy\u001b[0m\u001b[1;33m.\u001b[0m\u001b[0mNAME\u001b[0m\u001b[1;33m,\u001b[0m\u001b[1;34m\"20180451678\"\u001b[0m\u001b[1;33m)\u001b[0m\u001b[1;33m\u001b[0m\u001b[1;33m\u001b[0m\u001b[0m\n\u001b[0;32m     17\u001b[0m     \u001b[0melement_login_button\u001b[0m\u001b[1;33m=\u001b[0m\u001b[0mdriver\u001b[0m\u001b[1;33m.\u001b[0m\u001b[0mfind_element\u001b[0m\u001b[1;33m(\u001b[0m\u001b[0mBy\u001b[0m\u001b[1;33m.\u001b[0m\u001b[0mXPATH\u001b[0m\u001b[1;33m,\u001b[0m\u001b[1;34m\"//div[text()='Log In']\"\u001b[0m\u001b[1;33m)\u001b[0m\u001b[1;33m\u001b[0m\u001b[1;33m\u001b[0m\u001b[0m\n",
      "\u001b[1;32m~\\anaconda3\\lib\\site-packages\\selenium\\webdriver\\remote\\webdriver.py\u001b[0m in \u001b[0;36mfind_element\u001b[1;34m(self, by, value)\u001b[0m\n\u001b[0;32m   1242\u001b[0m             \u001b[0mvalue\u001b[0m \u001b[1;33m=\u001b[0m \u001b[1;34m'[name=\"%s\"]'\u001b[0m \u001b[1;33m%\u001b[0m \u001b[0mvalue\u001b[0m\u001b[1;33m\u001b[0m\u001b[1;33m\u001b[0m\u001b[0m\n\u001b[0;32m   1243\u001b[0m \u001b[1;33m\u001b[0m\u001b[0m\n\u001b[1;32m-> 1244\u001b[1;33m         return self.execute(Command.FIND_ELEMENT, {\n\u001b[0m\u001b[0;32m   1245\u001b[0m             \u001b[1;34m'using'\u001b[0m\u001b[1;33m:\u001b[0m \u001b[0mby\u001b[0m\u001b[1;33m,\u001b[0m\u001b[1;33m\u001b[0m\u001b[1;33m\u001b[0m\u001b[0m\n\u001b[0;32m   1246\u001b[0m             'value': value})['value']\n",
      "\u001b[1;32m~\\anaconda3\\lib\\site-packages\\selenium\\webdriver\\remote\\webdriver.py\u001b[0m in \u001b[0;36mexecute\u001b[1;34m(self, driver_command, params)\u001b[0m\n\u001b[0;32m    422\u001b[0m         \u001b[0mresponse\u001b[0m \u001b[1;33m=\u001b[0m \u001b[0mself\u001b[0m\u001b[1;33m.\u001b[0m\u001b[0mcommand_executor\u001b[0m\u001b[1;33m.\u001b[0m\u001b[0mexecute\u001b[0m\u001b[1;33m(\u001b[0m\u001b[0mdriver_command\u001b[0m\u001b[1;33m,\u001b[0m \u001b[0mparams\u001b[0m\u001b[1;33m)\u001b[0m\u001b[1;33m\u001b[0m\u001b[1;33m\u001b[0m\u001b[0m\n\u001b[0;32m    423\u001b[0m         \u001b[1;32mif\u001b[0m \u001b[0mresponse\u001b[0m\u001b[1;33m:\u001b[0m\u001b[1;33m\u001b[0m\u001b[1;33m\u001b[0m\u001b[0m\n\u001b[1;32m--> 424\u001b[1;33m             \u001b[0mself\u001b[0m\u001b[1;33m.\u001b[0m\u001b[0merror_handler\u001b[0m\u001b[1;33m.\u001b[0m\u001b[0mcheck_response\u001b[0m\u001b[1;33m(\u001b[0m\u001b[0mresponse\u001b[0m\u001b[1;33m)\u001b[0m\u001b[1;33m\u001b[0m\u001b[1;33m\u001b[0m\u001b[0m\n\u001b[0m\u001b[0;32m    425\u001b[0m             response['value'] = self._unwrap_value(\n\u001b[0;32m    426\u001b[0m                 response.get('value', None))\n",
      "\u001b[1;32m~\\anaconda3\\lib\\site-packages\\selenium\\webdriver\\remote\\errorhandler.py\u001b[0m in \u001b[0;36mcheck_response\u001b[1;34m(self, response)\u001b[0m\n\u001b[0;32m    245\u001b[0m                 \u001b[0malert_text\u001b[0m \u001b[1;33m=\u001b[0m \u001b[0mvalue\u001b[0m\u001b[1;33m[\u001b[0m\u001b[1;34m'alert'\u001b[0m\u001b[1;33m]\u001b[0m\u001b[1;33m.\u001b[0m\u001b[0mget\u001b[0m\u001b[1;33m(\u001b[0m\u001b[1;34m'text'\u001b[0m\u001b[1;33m)\u001b[0m\u001b[1;33m\u001b[0m\u001b[1;33m\u001b[0m\u001b[0m\n\u001b[0;32m    246\u001b[0m             \u001b[1;32mraise\u001b[0m \u001b[0mexception_class\u001b[0m\u001b[1;33m(\u001b[0m\u001b[0mmessage\u001b[0m\u001b[1;33m,\u001b[0m \u001b[0mscreen\u001b[0m\u001b[1;33m,\u001b[0m \u001b[0mstacktrace\u001b[0m\u001b[1;33m,\u001b[0m \u001b[0malert_text\u001b[0m\u001b[1;33m)\u001b[0m  \u001b[1;31m# type: ignore[call-arg]  # mypy is not smart enough here\u001b[0m\u001b[1;33m\u001b[0m\u001b[1;33m\u001b[0m\u001b[0m\n\u001b[1;32m--> 247\u001b[1;33m         \u001b[1;32mraise\u001b[0m \u001b[0mexception_class\u001b[0m\u001b[1;33m(\u001b[0m\u001b[0mmessage\u001b[0m\u001b[1;33m,\u001b[0m \u001b[0mscreen\u001b[0m\u001b[1;33m,\u001b[0m \u001b[0mstacktrace\u001b[0m\u001b[1;33m)\u001b[0m\u001b[1;33m\u001b[0m\u001b[1;33m\u001b[0m\u001b[0m\n\u001b[0m\u001b[0;32m    248\u001b[0m \u001b[1;33m\u001b[0m\u001b[0m\n\u001b[0;32m    249\u001b[0m     \u001b[1;32mdef\u001b[0m \u001b[0m_value_or_default\u001b[0m\u001b[1;33m(\u001b[0m\u001b[0mself\u001b[0m\u001b[1;33m,\u001b[0m \u001b[0mobj\u001b[0m\u001b[1;33m:\u001b[0m \u001b[0mMapping\u001b[0m\u001b[1;33m[\u001b[0m\u001b[0m_KT\u001b[0m\u001b[1;33m,\u001b[0m \u001b[0m_VT\u001b[0m\u001b[1;33m]\u001b[0m\u001b[1;33m,\u001b[0m \u001b[0mkey\u001b[0m\u001b[1;33m:\u001b[0m \u001b[0m_KT\u001b[0m\u001b[1;33m,\u001b[0m \u001b[0mdefault\u001b[0m\u001b[1;33m:\u001b[0m \u001b[0m_VT\u001b[0m\u001b[1;33m)\u001b[0m \u001b[1;33m->\u001b[0m \u001b[0m_VT\u001b[0m\u001b[1;33m:\u001b[0m\u001b[1;33m\u001b[0m\u001b[1;33m\u001b[0m\u001b[0m\n",
      "\u001b[1;31mNoSuchElementException\u001b[0m: Message: no such element: Unable to locate element: {\"method\":\"css selector\",\"selector\":\"[name=\"bhakthipoorna@gamil.com\"]\"}\n  (Session info: chrome=103.0.5060.114)\nStacktrace:\nBacktrace:\n\tOrdinal0 [0x00655FD3+2187219]\n\tOrdinal0 [0x005EE6D1+1763025]\n\tOrdinal0 [0x00503E78+802424]\n\tOrdinal0 [0x00531C10+990224]\n\tOrdinal0 [0x00531EAB+990891]\n\tOrdinal0 [0x0055EC92+1174674]\n\tOrdinal0 [0x0054CBD4+1100756]\n\tOrdinal0 [0x0055CFC2+1167298]\n\tOrdinal0 [0x0054C9A6+1100198]\n\tOrdinal0 [0x00526F80+946048]\n\tOrdinal0 [0x00527E76+949878]\n\tGetHandleVerifier [0x008F90C2+2721218]\n\tGetHandleVerifier [0x008EAAF0+2662384]\n\tGetHandleVerifier [0x006E137A+526458]\n\tGetHandleVerifier [0x006E0416+522518]\n\tOrdinal0 [0x005F4EAB+1789611]\n\tOrdinal0 [0x005F97A8+1808296]\n\tOrdinal0 [0x005F9895+1808533]\n\tOrdinal0 [0x006026C1+1844929]\n\tBaseThreadInitThunk [0x763EFA29+25]\n\tRtlGetAppContainerNamedObjectPath [0x77C57A9E+286]\n\tRtlGetAppContainerNamedObjectPath [0x77C57A6E+238]\n"
     ]
    }
   ],
   "source": [
    "traial_1=instagram_post_like_comments()"
   ]
  },
  {
   "cell_type": "code",
   "execution_count": null,
   "id": "7ec3f2a8",
   "metadata": {},
   "outputs": [],
   "source": []
  }
 ],
 "metadata": {
  "kernelspec": {
   "display_name": "Python 3",
   "language": "python",
   "name": "python3"
  },
  "language_info": {
   "codemirror_mode": {
    "name": "ipython",
    "version": 3
   },
   "file_extension": ".py",
   "mimetype": "text/x-python",
   "name": "python",
   "nbconvert_exporter": "python",
   "pygments_lexer": "ipython3",
   "version": "3.8.8"
  }
 },
 "nbformat": 4,
 "nbformat_minor": 5
}
